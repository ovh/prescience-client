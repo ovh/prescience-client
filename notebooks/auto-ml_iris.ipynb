{
 "cells": [
  {
   "cell_type": "markdown",
   "metadata": {},
   "source": [
    "# Classification Predictions on Iris dataset\n",
    "\n",
    "In this notebook we are going to use a well known dataset [Fisher's Iris](https://en.wikipedia.org/wiki/Iris_flower_data_set) to illustrate how `classification` problems work with `Prescience`.\n",
    "\n",
    "## Initial Data Analysis"
   ]
  },
  {
   "cell_type": "code",
   "execution_count": 40,
   "metadata": {},
   "outputs": [],
   "source": [
    "# All imports that you'll need for this notebook\n",
    "import pandas\n",
    "import json\n",
    "import matplotlib\n",
    "import matplotlib.pyplot as plt\n",
    "import ipywidgets as widgets\n",
    "from prescience_client import prescience\n",
    "from IPython.core.display import HTML\n",
    "\n",
    "# Define the size of your figures\n",
    "matplotlib.pyplot.rcParams[\"figure.figsize\"] = (15, 10)"
   ]
  },
  {
   "cell_type": "markdown",
   "metadata": {},
   "source": [
    "We previously downloaded locally the file containing data as csv, the file is located under `data/iris.csv`. You can have a look at it directly in the notebook.\n",
    "\n",
    "Let's have a look at what is inside the first 10 rows."
   ]
  },
  {
   "cell_type": "code",
   "execution_count": 41,
   "metadata": {},
   "outputs": [
    {
     "data": {
      "text/html": [
       "<table border=\"1\" class=\"dataframe\">\n",
       "  <thead>\n",
       "    <tr style=\"text-align: right;\">\n",
       "      <th></th>\n",
       "      <th>sepal_length</th>\n",
       "      <th>sepal_width</th>\n",
       "      <th>petal_length</th>\n",
       "      <th>petal_width</th>\n",
       "      <th>label</th>\n",
       "    </tr>\n",
       "  </thead>\n",
       "  <tbody>\n",
       "    <tr>\n",
       "      <th>0</th>\n",
       "      <td>5.1</td>\n",
       "      <td>3.5</td>\n",
       "      <td>1.4</td>\n",
       "      <td>0.2</td>\n",
       "      <td>Iris-setosa</td>\n",
       "    </tr>\n",
       "    <tr>\n",
       "      <th>1</th>\n",
       "      <td>4.9</td>\n",
       "      <td>3.0</td>\n",
       "      <td>1.4</td>\n",
       "      <td>0.2</td>\n",
       "      <td>Iris-setosa</td>\n",
       "    </tr>\n",
       "    <tr>\n",
       "      <th>2</th>\n",
       "      <td>4.7</td>\n",
       "      <td>3.2</td>\n",
       "      <td>1.3</td>\n",
       "      <td>0.2</td>\n",
       "      <td>Iris-setosa</td>\n",
       "    </tr>\n",
       "    <tr>\n",
       "      <th>3</th>\n",
       "      <td>4.6</td>\n",
       "      <td>3.1</td>\n",
       "      <td>1.5</td>\n",
       "      <td>0.2</td>\n",
       "      <td>Iris-setosa</td>\n",
       "    </tr>\n",
       "    <tr>\n",
       "      <th>4</th>\n",
       "      <td>5.0</td>\n",
       "      <td>3.6</td>\n",
       "      <td>1.4</td>\n",
       "      <td>0.2</td>\n",
       "      <td>Iris-setosa</td>\n",
       "    </tr>\n",
       "    <tr>\n",
       "      <th>5</th>\n",
       "      <td>5.4</td>\n",
       "      <td>3.9</td>\n",
       "      <td>1.7</td>\n",
       "      <td>0.4</td>\n",
       "      <td>Iris-setosa</td>\n",
       "    </tr>\n",
       "    <tr>\n",
       "      <th>6</th>\n",
       "      <td>4.6</td>\n",
       "      <td>3.4</td>\n",
       "      <td>1.4</td>\n",
       "      <td>0.3</td>\n",
       "      <td>Iris-setosa</td>\n",
       "    </tr>\n",
       "    <tr>\n",
       "      <th>7</th>\n",
       "      <td>5.0</td>\n",
       "      <td>3.4</td>\n",
       "      <td>1.5</td>\n",
       "      <td>0.2</td>\n",
       "      <td>Iris-setosa</td>\n",
       "    </tr>\n",
       "    <tr>\n",
       "      <th>8</th>\n",
       "      <td>4.4</td>\n",
       "      <td>2.9</td>\n",
       "      <td>1.4</td>\n",
       "      <td>0.2</td>\n",
       "      <td>Iris-setosa</td>\n",
       "    </tr>\n",
       "    <tr>\n",
       "      <th>9</th>\n",
       "      <td>4.9</td>\n",
       "      <td>3.1</td>\n",
       "      <td>1.5</td>\n",
       "      <td>0.1</td>\n",
       "      <td>Iris-setosa</td>\n",
       "    </tr>\n",
       "  </tbody>\n",
       "</table>"
      ],
      "text/plain": [
       "<IPython.core.display.HTML object>"
      ]
     },
     "execution_count": 41,
     "metadata": {},
     "output_type": "execute_result"
    }
   ],
   "source": [
    "# Local directory in which we saved the data\n",
    "INPUT = 'data/iris.csv'\n",
    "# Our local data is a CSV and has a header row\n",
    "HAS_HEADER = True\n",
    "\n",
    "# Read the csv data and get a pandas.Dataframe\n",
    "INITIAL_DATAFRAME = pandas.read_csv(INPUT)\n",
    "\n",
    "# Display the first 10 lines of the data into HTML\n",
    "HTML(INITIAL_DATAFRAME.head(10).to_html())"
   ]
  },
  {
   "cell_type": "markdown",
   "metadata": {},
   "source": [
    "We can see that the initial data is composed of 5 columns :\n",
    "* `sepal_length` : The length of the sepal\n",
    "* `sepal_width` : The width of the sepal\n",
    "* `petal_length` : The length of the petal\n",
    "* `petal_width` : The width of the sepal\n",
    "* `label` : The category (class) of the iris\n",
    "\n",
    "The first 4 properties are components of each iris flower : the `sepal` and the `petal` measured by their characteristics `width` and `length`.\n",
    "\n",
    "The last property is the sub-category of each iris between 3 : `Iris-setosa`, `Iris-versicolor`, `Iris-virginica`"
   ]
  },
  {
   "cell_type": "markdown",
   "metadata": {},
   "source": [
    "## Upload on Prescience and parse the data\n",
    "\n",
    "Now that we had a first look locally on our data, let's upload it on prescience.\n",
    "\n",
    "When we upload data on prescience, it automatically starts a `parse task`. A `parse task` is responsible for doing some pre-analysis on your data by creating a `source` object. You can choose the name that you want to give to your source, it is known as the `source_id`.\n",
    "\n",
    "### Name your source object"
   ]
  },
  {
   "cell_type": "code",
   "execution_count": 42,
   "metadata": {},
   "outputs": [],
   "source": [
    "# Name that you want to give to your source object\n",
    "SOURCE_ID = 'iris'"
   ]
  },
  {
   "cell_type": "markdown",
   "metadata": {},
   "source": [
    "### Launch the parse task\n",
    "\n",
    "You can lanch a `parse task` directly in your python code :"
   ]
  },
  {
   "cell_type": "code",
   "execution_count": 43,
   "metadata": {},
   "outputs": [
    {
     "name": "stdout",
     "output_type": "stream",
     "text": [
      "Uploading source with following arguments :\n",
      "{\n",
      "    \"source_id\": \"iris\",\n",
      "    \"type\": \"CSV\",\n",
      "    \"headers\": true,\n",
      "    \"separator\": \"COMMA\"\n",
      "}\n",
      "Task parse 97af1ec1-68f5-4e2e-98a1-7b6f42fca89e DONE\n"
     ]
    }
   ],
   "source": [
    "# We create a local file input from our csv file\n",
    "csv_input = prescience.csv_local_file_input(INPUT, headers=HAS_HEADER)\n",
    "\n",
    "# We start a parse task on prescience and watch for it (i.e we wait until the task ends)\n",
    "parse_task = csv_input.parse(source_id=SOURCE_ID).watch()"
   ]
  },
  {
   "cell_type": "markdown",
   "metadata": {},
   "source": [
    "#### Terminal equivalent command :\n",
    "\n",
    "`prescience start parse data/iris.csv --input-type CSV --source-id iris --watch`\n",
    "\n",
    "### Show the result of the parse task"
   ]
  },
  {
   "cell_type": "markdown",
   "metadata": {},
   "source": [
    "Once the parse task is over, you can look at what prescience found as schema for your `source` object."
   ]
  },
  {
   "cell_type": "code",
   "execution_count": 44,
   "metadata": {},
   "outputs": [
    {
     "data": {
      "text/html": [
       "<div>\n",
       "<style scoped>\n",
       "    .dataframe tbody tr th:only-of-type {\n",
       "        vertical-align: middle;\n",
       "    }\n",
       "\n",
       "    .dataframe tbody tr th {\n",
       "        vertical-align: top;\n",
       "    }\n",
       "\n",
       "    .dataframe thead th {\n",
       "        text-align: right;\n",
       "    }\n",
       "</style>\n",
       "<table border=\"1\" class=\"dataframe\">\n",
       "  <thead>\n",
       "    <tr style=\"text-align: right;\">\n",
       "      <th></th>\n",
       "      <th>name</th>\n",
       "      <th>type</th>\n",
       "      <th>nullable</th>\n",
       "      <th>n_cat</th>\n",
       "      <th>ratio</th>\n",
       "      <th>n_pop</th>\n",
       "      <th>median</th>\n",
       "      <th>mode</th>\n",
       "      <th>positive</th>\n",
       "    </tr>\n",
       "  </thead>\n",
       "  <tbody>\n",
       "    <tr>\n",
       "      <th>0</th>\n",
       "      <td>sepal_length</td>\n",
       "      <td>double</td>\n",
       "      <td>True</td>\n",
       "      <td>0</td>\n",
       "      <td>None</td>\n",
       "      <td>None</td>\n",
       "      <td>5.8</td>\n",
       "      <td>None</td>\n",
       "      <td>True</td>\n",
       "    </tr>\n",
       "    <tr>\n",
       "      <th>1</th>\n",
       "      <td>sepal_width</td>\n",
       "      <td>double</td>\n",
       "      <td>True</td>\n",
       "      <td>0</td>\n",
       "      <td>None</td>\n",
       "      <td>None</td>\n",
       "      <td>3.0</td>\n",
       "      <td>None</td>\n",
       "      <td>True</td>\n",
       "    </tr>\n",
       "    <tr>\n",
       "      <th>2</th>\n",
       "      <td>petal_length</td>\n",
       "      <td>double</td>\n",
       "      <td>True</td>\n",
       "      <td>0</td>\n",
       "      <td>None</td>\n",
       "      <td>None</td>\n",
       "      <td>4.3</td>\n",
       "      <td>None</td>\n",
       "      <td>True</td>\n",
       "    </tr>\n",
       "    <tr>\n",
       "      <th>3</th>\n",
       "      <td>petal_width</td>\n",
       "      <td>double</td>\n",
       "      <td>True</td>\n",
       "      <td>0</td>\n",
       "      <td>None</td>\n",
       "      <td>None</td>\n",
       "      <td>1.3</td>\n",
       "      <td>None</td>\n",
       "      <td>True</td>\n",
       "    </tr>\n",
       "    <tr>\n",
       "      <th>4</th>\n",
       "      <td>label</td>\n",
       "      <td>string</td>\n",
       "      <td>True</td>\n",
       "      <td>3</td>\n",
       "      <td>None</td>\n",
       "      <td>None</td>\n",
       "      <td>0.0</td>\n",
       "      <td>Iris-virginica</td>\n",
       "      <td>True</td>\n",
       "    </tr>\n",
       "  </tbody>\n",
       "</table>\n",
       "</div>"
      ],
      "text/plain": [
       "<IPython.core.display.HTML object>"
      ]
     },
     "execution_count": 44,
     "metadata": {},
     "output_type": "execute_result"
    }
   ],
   "source": [
    "# We get back the created source from the finished task\n",
    "source = parse_task.source()\n",
    "\n",
    "# We display the computed sources statistics of the schema\n",
    "source.schema().show('html')"
   ]
  },
  {
   "cell_type": "markdown",
   "metadata": {},
   "source": [
    "As you can see in the previous table, the `parse` task correctly find the schema of your data as well as some statistics about it.\n",
    "\n",
    "#### Terminal equivalent command :\n",
    "\n",
    "`prescience get source iris --schema`\n",
    "\n",
    "### Retrieve all your parsed sources in your project\n",
    "At any time you can retrieve all the `sources` your parsed inside your project"
   ]
  },
  {
   "cell_type": "code",
   "execution_count": 45,
   "metadata": {},
   "outputs": [
    {
     "data": {
      "text/html": [
       "<div>\n",
       "<style scoped>\n",
       "    .dataframe tbody tr th:only-of-type {\n",
       "        vertical-align: middle;\n",
       "    }\n",
       "\n",
       "    .dataframe tbody tr th {\n",
       "        vertical-align: top;\n",
       "    }\n",
       "\n",
       "    .dataframe thead th {\n",
       "        text-align: right;\n",
       "    }\n",
       "</style>\n",
       "<table border=\"1\" class=\"dataframe\">\n",
       "  <thead>\n",
       "    <tr style=\"text-align: right;\">\n",
       "      <th></th>\n",
       "      <th>source_id</th>\n",
       "      <th>status</th>\n",
       "      <th>input_type</th>\n",
       "      <th>info</th>\n",
       "    </tr>\n",
       "  </thead>\n",
       "  <tbody>\n",
       "    <tr>\n",
       "      <th>0</th>\n",
       "      <td>iris</td>\n",
       "      <td>BUILT</td>\n",
       "      <td>CSV</td>\n",
       "      <td>None</td>\n",
       "    </tr>\n",
       "  </tbody>\n",
       "</table>\n",
       "</div>"
      ],
      "text/plain": [
       "<IPython.core.display.HTML object>"
      ]
     },
     "execution_count": 45,
     "metadata": {},
     "output_type": "execute_result"
    }
   ],
   "source": [
    "# Display the list of all sources in your prescience project\n",
    "prescience.sources().show('html')"
   ]
  },
  {
   "cell_type": "markdown",
   "metadata": {},
   "source": [
    "#### Terminal equivalent command :\n",
    "\n",
    "`prescience get sources`\n",
    "\n",
    "### Retrieve your source by its ID\n",
    "At any time you can retrieve any of your parsed `source` by its ID"
   ]
  },
  {
   "cell_type": "code",
   "execution_count": 46,
   "metadata": {},
   "outputs": [],
   "source": [
    "# Display the list of all sources in your prescience project\n",
    "source = prescience.source(SOURCE_ID)"
   ]
  },
  {
   "cell_type": "markdown",
   "metadata": {},
   "source": [
    "#### Terminal equivalent command :\n",
    "\n",
    "`prescience get source iris -o json`\n",
    "\n",
    "## Problem Definition\n",
    "\n",
    "Now we want to be able to make predictions based on this time-series and we want to let prescience infer the predictive model for us. For that purpose, we are going to start an `auto-ml task` after defining problem's metadata.\n",
    "\n",
    "### The problem type\n",
    "\n",
    "It is the problem that we want to solve. In this case it's a `classification`."
   ]
  },
  {
   "cell_type": "code",
   "execution_count": 47,
   "metadata": {},
   "outputs": [],
   "source": [
    "PROBLEM_TYPE = 'classification'"
   ]
  },
  {
   "cell_type": "markdown",
   "metadata": {},
   "source": [
    "### The label column\n",
    "It the the column that you want to predict. In our case, it is the `label` column."
   ]
  },
  {
   "cell_type": "code",
   "execution_count": 48,
   "metadata": {},
   "outputs": [],
   "source": [
    "LABEL_COLUMN = 'label'"
   ]
  },
  {
   "cell_type": "markdown",
   "metadata": {},
   "source": [
    "### The scoring metric\n",
    "It is the metric that we want to use to evaluate the relevance of trained models. In case of `classification` the `accuracy` is a good metric."
   ]
  },
  {
   "cell_type": "code",
   "execution_count": 49,
   "metadata": {},
   "outputs": [],
   "source": [
    "SCORING_METRIC = 'accuracy'"
   ]
  },
  {
   "cell_type": "markdown",
   "metadata": {},
   "source": [
    "## Start the Automated Machine Learning Task\n",
    "With all the previous information we can start the auto-ml task and wait for it to complete (This can take some times). We will see later that this task creates 2 objects : a `dataset` and a `model` that's why the functions returns a task and 2 identifiers."
   ]
  },
  {
   "cell_type": "code",
   "execution_count": 50,
   "metadata": {},
   "outputs": [
    {
     "name": "stdout",
     "output_type": "stream",
     "text": [
      "Starting AutoML task with following arguments :\n",
      "{\n",
      "    \"dataset_id\": \"iris_dataset_2gN4jNj\",\n",
      "    \"label_id\": \"label\",\n",
      "    \"model_id\": \"iris_model_2gN4jNj\",\n",
      "    \"problem_type\": \"classification\",\n",
      "    \"scoring_metric\": \"accuracy\",\n",
      "    \"custom_parameters\": {},\n",
      "    \"optimization_method\": \"SMAC\",\n",
      "    \"multiclass\": false\n",
      "}\n",
      "Task model-metrics 4b9d7d9b-c1ca-4fda-9d7a-060092e78baf DONE\n"
     ]
    },
    {
     "data": {
      "text/plain": [
       "<prescience_client.bean.task.Task at 0x7ff7fb257978>"
      ]
     },
     "execution_count": 50,
     "metadata": {},
     "output_type": "execute_result"
    }
   ],
   "source": [
    "# Start an AUTO-ML task\n",
    "task, dataset_id, model_id = source.start_auto_ml(\n",
    "    label_id=LABEL_COLUMN,\n",
    "    problem_type=PROBLEM_TYPE,\n",
    "    scoring_metric=SCORING_METRIC\n",
    ")\n",
    "task.watch()"
   ]
  },
  {
   "cell_type": "markdown",
   "metadata": {},
   "source": [
    "#### Terminal equivalent command :\n",
    "\n",
    "`prescience start auto-ml iris accuracy --label label --problem-type classification --watch`\n",
    "\n",
    "## Estimate model relevancy\n",
    "\n",
    "The finality of an `auto-ml task` is to automatically find and deploy a `model` that makes correct predictions based on you initial data. You can access it by its `model_id`."
   ]
  },
  {
   "cell_type": "code",
   "execution_count": 51,
   "metadata": {},
   "outputs": [],
   "source": [
    "# Access the created model on prescience\n",
    "model = prescience.model(model_id)\n",
    "# Access model metric\n",
    "metric = model.get_metric()"
   ]
  },
  {
   "cell_type": "markdown",
   "metadata": {},
   "source": [
    "### Scores"
   ]
  },
  {
   "cell_type": "code",
   "execution_count": 52,
   "metadata": {},
   "outputs": [
    {
     "data": {
      "text/html": [
       "<table border=\"1\" class=\"dataframe\">\n",
       "  <thead>\n",
       "    <tr style=\"text-align: right;\">\n",
       "      <th></th>\n",
       "      <th>accuracy</th>\n",
       "      <th>f1</th>\n",
       "      <th>log_loss</th>\n",
       "      <th>precision</th>\n",
       "      <th>recall</th>\n",
       "      <th>roc</th>\n",
       "    </tr>\n",
       "  </thead>\n",
       "  <tbody>\n",
       "    <tr>\n",
       "      <th>Iris-setosa</th>\n",
       "      <td></td>\n",
       "      <td>1</td>\n",
       "      <td></td>\n",
       "      <td>1</td>\n",
       "      <td>1</td>\n",
       "      <td></td>\n",
       "    </tr>\n",
       "    <tr>\n",
       "      <th>Iris-versicolor</th>\n",
       "      <td></td>\n",
       "      <td>1</td>\n",
       "      <td></td>\n",
       "      <td>1</td>\n",
       "      <td>1</td>\n",
       "      <td></td>\n",
       "    </tr>\n",
       "    <tr>\n",
       "      <th>Iris-virginica</th>\n",
       "      <td></td>\n",
       "      <td>1</td>\n",
       "      <td></td>\n",
       "      <td>1</td>\n",
       "      <td>1</td>\n",
       "      <td></td>\n",
       "    </tr>\n",
       "    <tr>\n",
       "      <th>global</th>\n",
       "      <td>1</td>\n",
       "      <td></td>\n",
       "      <td>0.00269798</td>\n",
       "      <td></td>\n",
       "      <td></td>\n",
       "      <td>1</td>\n",
       "    </tr>\n",
       "  </tbody>\n",
       "</table>"
      ],
      "text/plain": [
       "<IPython.core.display.HTML object>"
      ]
     },
     "execution_count": 52,
     "metadata": {},
     "output_type": "execute_result"
    }
   ],
   "source": [
    "df = prescience.get_metric_scores_dataframe(model_id)\n",
    "HTML(df.to_html())"
   ]
  },
  {
   "cell_type": "markdown",
   "metadata": {},
   "source": [
    "### Confusion Maxtrix"
   ]
  },
  {
   "cell_type": "code",
   "execution_count": 53,
   "metadata": {},
   "outputs": [
    {
     "data": {
      "text/html": [
       "<table border=\"1\" class=\"dataframe\">\n",
       "  <thead>\n",
       "    <tr style=\"text-align: right;\">\n",
       "      <th></th>\n",
       "      <th>Iris-setosa_predict</th>\n",
       "      <th>Iris-versicolor_predict</th>\n",
       "      <th>Iris-virginica_predict</th>\n",
       "    </tr>\n",
       "  </thead>\n",
       "  <tbody>\n",
       "    <tr>\n",
       "      <th>Iris-setosa_true</th>\n",
       "      <td>13</td>\n",
       "      <td>0</td>\n",
       "      <td>0</td>\n",
       "    </tr>\n",
       "    <tr>\n",
       "      <th>Iris-versicolor_true</th>\n",
       "      <td>0</td>\n",
       "      <td>15</td>\n",
       "      <td>0</td>\n",
       "    </tr>\n",
       "    <tr>\n",
       "      <th>Iris-virginica_true</th>\n",
       "      <td>0</td>\n",
       "      <td>0</td>\n",
       "      <td>10</td>\n",
       "    </tr>\n",
       "  </tbody>\n",
       "</table>"
      ],
      "text/plain": [
       "<IPython.core.display.HTML object>"
      ]
     },
     "execution_count": 53,
     "metadata": {},
     "output_type": "execute_result"
    }
   ],
   "source": [
    "df = prescience.get_confusion_matrix(model_id)\n",
    "HTML(df.to_html())"
   ]
  },
  {
   "cell_type": "markdown",
   "metadata": {},
   "source": [
    "### ROC"
   ]
  },
  {
   "cell_type": "code",
   "execution_count": 54,
   "metadata": {},
   "outputs": [
    {
     "data": {
      "image/png": "[encoded data removed]",
      "text/plain": [
       "<Figure size 1080x720 with 1 Axes>"
      ]
     },
     "metadata": {
      "needs_background": "light"
     },
     "output_type": "display_data"
    }
   ],
   "source": [
    "prescience.plot_roc_curve(model_id)"
   ]
  },
  {
   "cell_type": "markdown",
   "metadata": {},
   "source": [
    "## Request your own predictions\n",
    "You can then test the prediction model by filling properties by yourself, and see the result :"
   ]
  },
  {
   "cell_type": "code",
   "execution_count": 55,
   "metadata": {},
   "outputs": [],
   "source": [
    "def make_prediction(sepal_width, sepal_length, petal_width, petal_length):\n",
    "    payload = model.get_model_evaluation_payload(arguments={\n",
    "        'sepal_length': sepal_length,\n",
    "        'sepal_width': sepal_width,\n",
    "        'petal_length': petal_length,\n",
    "        'petal_width': petal_width\n",
    "    })\n",
    "    result = payload.evaluate()\n",
    "    result.show()\n",
    "    print(json.dumps(result.json_dict['result'], indent=4))"
   ]
  },
  {
   "cell_type": "code",
   "execution_count": 56,
   "metadata": {
    "jupyter": {
     "source_hidden": true
    }
   },
   "outputs": [
    {
     "data": {
      "application/vnd.jupyter.widget-view+json": {
       "model_id": "1a25c5aa5d07407a97b0c46fc0efac13",
       "version_major": 2,
       "version_minor": 0
      },
      "text/plain": [
       "HBox(children=(FloatSlider(value=0.1, continuous_update=False, description='Sepal Width:', max=10.0, readout_f…"
      ]
     },
     "metadata": {},
     "output_type": "display_data"
    },
    {
     "data": {
      "application/vnd.jupyter.widget-view+json": {
       "model_id": "05837ae1defa4510919624605ae3f6a5",
       "version_major": 2,
       "version_minor": 0
      },
      "text/plain": [
       "Output()"
      ]
     },
     "metadata": {},
     "output_type": "display_data"
    }
   ],
   "source": [
    "FEATURES = ['sepal_width', 'sepal_length', 'petal_width', 'petal_length']\n",
    "\n",
    "sepal_width_widget = widgets.FloatSlider(\n",
    "    value=0.1,\n",
    "    min=0,\n",
    "    max=10.0,\n",
    "    step=0.1,\n",
    "    description='Sepal Width:',\n",
    "    disabled=False,\n",
    "    continuous_update=False,\n",
    "    orientation='horizontal',\n",
    "    readout=True,\n",
    "    readout_format='.1f',\n",
    ")\n",
    "sepal_length_widget = widgets.FloatSlider(\n",
    "    value=0.1,\n",
    "    min=0,\n",
    "    max=10.0,\n",
    "    step=0.1,\n",
    "    description='Sepal Length:',\n",
    "    disabled=False,\n",
    "    continuous_update=False,\n",
    "    orientation='horizontal',\n",
    "    readout=True,\n",
    "    readout_format='.1f',\n",
    ")\n",
    "petal_width_widget = widgets.FloatSlider(\n",
    "    value=0.1,\n",
    "    min=0,\n",
    "    max=10.0,\n",
    "    step=0.1,\n",
    "    description='Petal Width:',\n",
    "    disabled=False,\n",
    "    continuous_update=False,\n",
    "    orientation='horizontal',\n",
    "    readout=True,\n",
    "    readout_format='.1f',\n",
    ")\n",
    "petal_length_widget = widgets.FloatSlider(\n",
    "    value=0.1,\n",
    "    min=0,\n",
    "    max=10.0,\n",
    "    step=0.1,\n",
    "    description='Petal Length:',\n",
    "    disabled=False,\n",
    "    continuous_update=False,\n",
    "    orientation='horizontal',\n",
    "    readout=True,\n",
    "    readout_format='.1f',\n",
    ")\n",
    "\n",
    "ui = widgets.HBox([sepal_width_widget, sepal_length_widget, petal_width_widget, petal_length_widget], layout=widgets.Layout(width='100%'))\n",
    "out = widgets.interactive_output(make_prediction, {\n",
    "    'sepal_width': sepal_width_widget,\n",
    "    'sepal_length': sepal_length_widget,\n",
    "    'petal_width': petal_width_widget,\n",
    "    'petal_length': petal_length_widget\n",
    "})\n",
    "display(ui, out)"
   ]
  },
  {
   "cell_type": "markdown",
   "metadata": {},
   "source": [
    "## Under the hood\n",
    "\n",
    "As already told before, an auto-ml tasks start from a source object and creates 2 other objects, first a dataset and then a model. You can see the relationship between each other by doing so : "
   ]
  },
  {
   "cell_type": "code",
   "execution_count": 57,
   "metadata": {},
   "outputs": [
    {
     "name": "stdout",
     "output_type": "stream",
     "text": [
      "Source(iris)\n",
      " +-- Dataset(iris_dataset_2gN4jNj)\n",
      "     +-- Model(iris_model_2gN4jNj)\n"
     ]
    }
   ],
   "source": [
    "source.tree().show()"
   ]
  },
  {
   "cell_type": "markdown",
   "metadata": {},
   "source": [
    "### The Source object\n",
    "\n",
    "The source object is almost like your original data, except that it holds some metadata inside that have been computed during the parse tasks. We wont describe all the metadata here but this is several statistics like :\n",
    "* The standard deviation for each column\n",
    "* The type of data contained in the column (integer, boolean, text, etc...)\n",
    "* If the column can contains `null` values\n",
    "* etc...\n",
    "\n",
    "You can see the computed statistic on your source by doing so :"
   ]
  },
  {
   "cell_type": "code",
   "execution_count": 58,
   "metadata": {},
   "outputs": [
    {
     "data": {
      "text/html": [
       "<div>\n",
       "<style scoped>\n",
       "    .dataframe tbody tr th:only-of-type {\n",
       "        vertical-align: middle;\n",
       "    }\n",
       "\n",
       "    .dataframe tbody tr th {\n",
       "        vertical-align: top;\n",
       "    }\n",
       "\n",
       "    .dataframe thead th {\n",
       "        text-align: right;\n",
       "    }\n",
       "</style>\n",
       "<table border=\"1\" class=\"dataframe\">\n",
       "  <thead>\n",
       "    <tr style=\"text-align: right;\">\n",
       "      <th></th>\n",
       "      <th>name</th>\n",
       "      <th>type</th>\n",
       "      <th>nullable</th>\n",
       "      <th>n_cat</th>\n",
       "      <th>ratio</th>\n",
       "      <th>n_pop</th>\n",
       "      <th>median</th>\n",
       "      <th>mode</th>\n",
       "      <th>positive</th>\n",
       "    </tr>\n",
       "  </thead>\n",
       "  <tbody>\n",
       "    <tr>\n",
       "      <th>0</th>\n",
       "      <td>sepal_length</td>\n",
       "      <td>double</td>\n",
       "      <td>True</td>\n",
       "      <td>0</td>\n",
       "      <td>None</td>\n",
       "      <td>None</td>\n",
       "      <td>5.8</td>\n",
       "      <td>None</td>\n",
       "      <td>True</td>\n",
       "    </tr>\n",
       "    <tr>\n",
       "      <th>1</th>\n",
       "      <td>sepal_width</td>\n",
       "      <td>double</td>\n",
       "      <td>True</td>\n",
       "      <td>0</td>\n",
       "      <td>None</td>\n",
       "      <td>None</td>\n",
       "      <td>3.0</td>\n",
       "      <td>None</td>\n",
       "      <td>True</td>\n",
       "    </tr>\n",
       "    <tr>\n",
       "      <th>2</th>\n",
       "      <td>petal_length</td>\n",
       "      <td>double</td>\n",
       "      <td>True</td>\n",
       "      <td>0</td>\n",
       "      <td>None</td>\n",
       "      <td>None</td>\n",
       "      <td>4.3</td>\n",
       "      <td>None</td>\n",
       "      <td>True</td>\n",
       "    </tr>\n",
       "    <tr>\n",
       "      <th>3</th>\n",
       "      <td>petal_width</td>\n",
       "      <td>double</td>\n",
       "      <td>True</td>\n",
       "      <td>0</td>\n",
       "      <td>None</td>\n",
       "      <td>None</td>\n",
       "      <td>1.3</td>\n",
       "      <td>None</td>\n",
       "      <td>True</td>\n",
       "    </tr>\n",
       "    <tr>\n",
       "      <th>4</th>\n",
       "      <td>label</td>\n",
       "      <td>string</td>\n",
       "      <td>True</td>\n",
       "      <td>3</td>\n",
       "      <td>None</td>\n",
       "      <td>None</td>\n",
       "      <td>0.0</td>\n",
       "      <td>Iris-virginica</td>\n",
       "      <td>True</td>\n",
       "    </tr>\n",
       "  </tbody>\n",
       "</table>\n",
       "</div>"
      ],
      "text/plain": [
       "<IPython.core.display.HTML object>"
      ]
     },
     "execution_count": 58,
     "metadata": {},
     "output_type": "execute_result"
    }
   ],
   "source": [
    "source.schema().show('html')"
   ]
  },
  {
   "cell_type": "markdown",
   "metadata": {},
   "source": [
    "You can even plot your source object if you want to visually see your timeserie. For doing so you will just need to indicate the name of the column used as `x` and the name if the column used as 'y'."
   ]
  },
  {
   "cell_type": "code",
   "execution_count": 59,
   "metadata": {},
   "outputs": [],
   "source": [
    "def plot_source(x, y):\n",
    "    source.plot(x=x, y=y, clss=LABEL_COLUMN)"
   ]
  },
  {
   "cell_type": "code",
   "execution_count": 60,
   "metadata": {
    "jupyter": {
     "source_hidden": true
    }
   },
   "outputs": [
    {
     "data": {
      "application/vnd.jupyter.widget-view+json": {
       "model_id": "2ec7b396909041068679f866aec85eaf",
       "version_major": 2,
       "version_minor": 0
      },
      "text/plain": [
       "HBox(children=(Dropdown(description='X axe :', options=('sepal_width', 'sepal_length', 'petal_width', 'petal_l…"
      ]
     },
     "metadata": {},
     "output_type": "display_data"
    },
    {
     "data": {
      "application/vnd.jupyter.widget-view+json": {
       "model_id": "abaa1d0209b54c81af52aaf60431eb23",
       "version_major": 2,
       "version_minor": 0
      },
      "text/plain": [
       "Output()"
      ]
     },
     "metadata": {},
     "output_type": "display_data"
    }
   ],
   "source": [
    "import ipywidgets as widgets\n",
    "\n",
    "FEATURES = ['sepal_width', 'sepal_length', 'petal_width', 'petal_length']\n",
    "\n",
    "x_axe = widgets.Dropdown(\n",
    "    options=FEATURES,\n",
    "    value=FEATURES[0],\n",
    "    description='X axe :',\n",
    "    disabled=False,\n",
    ")\n",
    "y_axe = widgets.Dropdown(\n",
    "    options=FEATURES,\n",
    "    value=FEATURES[-1],\n",
    "    description='Y axe :',\n",
    "    disabled=False,\n",
    ")\n",
    "\n",
    "ui = widgets.HBox([x_axe, y_axe], layout=widgets.Layout(width='100%'))\n",
    "out = widgets.interactive_output(plot_source, {'x': x_axe, 'y': y_axe})\n",
    "display(ui, out)"
   ]
  },
  {
   "cell_type": "markdown",
   "metadata": {},
   "source": [
    "### The dataset object\n",
    "\n",
    "The `dataset` object contains the same data than in your `source` except that :\n",
    "\n",
    "* Your source data has been split into `n` subsets that we call `fold`.\n",
    "* Each fold contains a `train` part and a `test` part. Machine Learning algorithm will train only on the `train` part and they will be evaluated on the `test` part. It is a standard process in machine learning in order to evaluate relevancy of machine learning algorithms on data that they have never seen before.\n",
    "* The data (and columns name) has been transformed so that it can be understandable by machine learning algorithms (exemple : standardization). The rules of transformation won't be described here but all you have to know is that previously computed statistics are used to choose the good transformation strategy.\n",
    "\n",
    "Example when showing the first 10 lines of the first fold :"
   ]
  },
  {
   "cell_type": "code",
   "execution_count": 61,
   "metadata": {},
   "outputs": [
    {
     "name": "stdout",
     "output_type": "stream",
     "text": [
      "Directory '/tmp/.prescience/cache/datasets/iris_dataset_2gN4jNj/fold/0/train' doesn't exists. Creating it...\n",
      "Updating cache for source 'iris_dataset_2gN4jNj' : /tmp/.prescience/cache/datasets/iris_dataset_2gN4jNj/fold/0/train\n"
     ]
    },
    {
     "data": {
      "text/html": [
       "<table border=\"1\" class=\"dataframe\">\n",
       "  <thead>\n",
       "    <tr style=\"text-align: right;\">\n",
       "      <th></th>\n",
       "      <th>label</th>\n",
       "      <th>scaled_imputed_sepal_width</th>\n",
       "      <th>scaled_imputed_petal_width</th>\n",
       "      <th>scaled_imputed_petal_length</th>\n",
       "      <th>scaled_imputed_sepal_length</th>\n",
       "    </tr>\n",
       "  </thead>\n",
       "  <tbody>\n",
       "    <tr>\n",
       "      <th>0</th>\n",
       "      <td>Iris-setosa</td>\n",
       "      <td>0.819195</td>\n",
       "      <td>-1.313267</td>\n",
       "      <td>-1.286814</td>\n",
       "      <td>-1.011918</td>\n",
       "    </tr>\n",
       "    <tr>\n",
       "      <th>1</th>\n",
       "      <td>Iris-setosa</td>\n",
       "      <td>-0.123566</td>\n",
       "      <td>-1.444213</td>\n",
       "      <td>-1.514256</td>\n",
       "      <td>-1.858559</td>\n",
       "    </tr>\n",
       "    <tr>\n",
       "      <th>2</th>\n",
       "      <td>Iris-setosa</td>\n",
       "      <td>1.054885</td>\n",
       "      <td>-1.313267</td>\n",
       "      <td>-1.286814</td>\n",
       "      <td>-0.770021</td>\n",
       "    </tr>\n",
       "    <tr>\n",
       "      <th>3</th>\n",
       "      <td>Iris-setosa</td>\n",
       "      <td>0.819195</td>\n",
       "      <td>-1.313267</td>\n",
       "      <td>-1.343674</td>\n",
       "      <td>-0.770021</td>\n",
       "    </tr>\n",
       "    <tr>\n",
       "      <th>4</th>\n",
       "      <td>Iris-setosa</td>\n",
       "      <td>0.112124</td>\n",
       "      <td>-1.313267</td>\n",
       "      <td>-1.229953</td>\n",
       "      <td>-1.253816</td>\n",
       "    </tr>\n",
       "    <tr>\n",
       "      <th>5</th>\n",
       "      <td>Iris-setosa</td>\n",
       "      <td>0.347815</td>\n",
       "      <td>-1.313267</td>\n",
       "      <td>-1.457395</td>\n",
       "      <td>-1.011918</td>\n",
       "    </tr>\n",
       "    <tr>\n",
       "      <th>6</th>\n",
       "      <td>Iris-setosa</td>\n",
       "      <td>1.054885</td>\n",
       "      <td>-1.182322</td>\n",
       "      <td>-1.400535</td>\n",
       "      <td>-1.011918</td>\n",
       "    </tr>\n",
       "    <tr>\n",
       "      <th>7</th>\n",
       "      <td>Iris-versicolor</td>\n",
       "      <td>-1.537707</td>\n",
       "      <td>-0.265705</td>\n",
       "      <td>-0.263325</td>\n",
       "      <td>-1.132867</td>\n",
       "    </tr>\n",
       "    <tr>\n",
       "      <th>8</th>\n",
       "      <td>Iris-versicolor</td>\n",
       "      <td>-0.594946</td>\n",
       "      <td>0.127131</td>\n",
       "      <td>0.134699</td>\n",
       "      <td>0.318518</td>\n",
       "    </tr>\n",
       "    <tr>\n",
       "      <th>9</th>\n",
       "      <td>Iris-versicolor</td>\n",
       "      <td>-0.123566</td>\n",
       "      <td>0.650913</td>\n",
       "      <td>0.703304</td>\n",
       "      <td>1.044210</td>\n",
       "    </tr>\n",
       "  </tbody>\n",
       "</table>"
      ],
      "text/plain": [
       "<IPython.core.display.HTML object>"
      ]
     },
     "execution_count": 61,
     "metadata": {},
     "output_type": "execute_result"
    }
   ],
   "source": [
    "df = prescience.fold_dataframe(dataset_id=dataset_id, fold_number=0, test_part=False)\n",
    "HTML(df.head(10).to_html())"
   ]
  },
  {
   "cell_type": "markdown",
   "metadata": {},
   "source": [
    "You can plot each fold of the dataset to see the difference with the source :"
   ]
  },
  {
   "cell_type": "code",
   "execution_count": 62,
   "metadata": {},
   "outputs": [],
   "source": [
    "def plot_fold(train_test, fold_number, x, y):\n",
    "    prescience.plot_dataset(\n",
    "        dataset_id=dataset_id,\n",
    "        plot_train=(train_test=='train'),\n",
    "        plot_test=(train_test=='test'),\n",
    "        fold_number=fold_number,\n",
    "        x=x,\n",
    "        y=y,\n",
    "        clss=LABEL_COLUMN\n",
    "    )"
   ]
  },
  {
   "cell_type": "code",
   "execution_count": 68,
   "metadata": {
    "jupyter": {
     "source_hidden": true
    }
   },
   "outputs": [
    {
     "data": {
      "application/vnd.jupyter.widget-view+json": {
       "model_id": "17eeffd8dd914f6896328e05b5bc35e0",
       "version_major": 2,
       "version_minor": 0
      },
      "text/plain": [
       "HBox(children=(Dropdown(description='Part', options=('train', 'test'), value='train'), Dropdown(description='F…"
      ]
     },
     "metadata": {},
     "output_type": "display_data"
    },
    {
     "data": {
      "application/vnd.jupyter.widget-view+json": {
       "model_id": "595df4c7008d422ea6ec1a889696da55",
       "version_major": 2,
       "version_minor": 0
      },
      "text/plain": [
       "Output()"
      ]
     },
     "metadata": {},
     "output_type": "display_data"
    }
   ],
   "source": [
    "FEATURES_SCALED = ['scaled_imputed_sepal_width', 'scaled_imputed_petal_width', 'scaled_imputed_petal_length', 'scaled_imputed_sepal_length']\n",
    "TRAIN_TEST = ['train', 'test']\n",
    "FOLDS = [x for x in range(0, 3)]\n",
    "\n",
    "train_test = widgets.Dropdown(\n",
    "    options=TRAIN_TEST,\n",
    "    value=TRAIN_TEST[0],\n",
    "    description='Part',\n",
    "    disabled=False,\n",
    ")\n",
    "fold_number = widgets.Dropdown(\n",
    "    options=FOLDS,\n",
    "    value=FOLDS[0],\n",
    "    description='Fold number',\n",
    "    disabled=False,\n",
    ")\n",
    "x_axe_scaled = widgets.Dropdown(\n",
    "    options=FEATURES_SCALED,\n",
    "    value=FEATURES_SCALED[0],\n",
    "    description='X axe :',\n",
    "    disabled=False,\n",
    ")\n",
    "y_axe_scaled = widgets.Dropdown(\n",
    "    options=FEATURES_SCALED,\n",
    "    value=FEATURES_SCALED[-1],\n",
    "    description='Y axe :',\n",
    "    disabled=False,\n",
    ")\n",
    "\n",
    "ui = widgets.HBox([train_test, fold_number, x_axe_scaled, y_axe_scaled], layout=widgets.Layout(width='100%'))\n",
    "out = widgets.interactive_output(plot_fold, {'train_test': train_test, 'fold_number': fold_number, 'x': x_axe_scaled, 'y': y_axe_scaled})\n",
    "display(ui, out)"
   ]
  },
  {
   "cell_type": "markdown",
   "metadata": {},
   "source": [
    "### The model object\n",
    "\n",
    "The `model` object is created from a `dataset` with a `train task` however a train task needs to be launched on a specific machine learning algorithm with defined parameters. That's why there is an intermediate task which is called the `optimization task`.\n",
    "\n",
    "The aim of an optimization task is to use the previously created folds of our dataset to train a lot of machine learning algorithms with different hyperparameters, evaluate them and find the best.\n",
    "\n",
    "All results of evaluations are stored in prescience into objects called `evaluations results`. You can request the visualisation of previously computed evaluation by doing so :"
   ]
  },
  {
   "cell_type": "code",
   "execution_count": 64,
   "metadata": {},
   "outputs": [
    {
     "data": {
      "text/html": [
       "<div>\n",
       "<style scoped>\n",
       "    .dataframe tbody tr th:only-of-type {\n",
       "        vertical-align: middle;\n",
       "    }\n",
       "\n",
       "    .dataframe tbody tr th {\n",
       "        vertical-align: top;\n",
       "    }\n",
       "\n",
       "    .dataframe thead th {\n",
       "        text-align: right;\n",
       "    }\n",
       "</style>\n",
       "<table border=\"1\" class=\"dataframe\">\n",
       "  <thead>\n",
       "    <tr style=\"text-align: right;\">\n",
       "      <th></th>\n",
       "      <th>uuid</th>\n",
       "      <th>status</th>\n",
       "      <th>config_name</th>\n",
       "      <th>past_steps</th>\n",
       "      <th>horizon</th>\n",
       "      <th>discount</th>\n",
       "      <th>accuracy_cost</th>\n",
       "      <th>cohen_kappa_cost</th>\n",
       "      <th>f1_micro_cost</th>\n",
       "      <th>f1_macro_cost</th>\n",
       "      <th>roc_auc_micro_cost</th>\n",
       "      <th>roc_auc_macro_cost</th>\n",
       "      <th>average_precision_micro_cost</th>\n",
       "      <th>average_precision_macro_cost</th>\n",
       "    </tr>\n",
       "  </thead>\n",
       "  <tbody>\n",
       "    <tr>\n",
       "      <th>0</th>\n",
       "      <td>b3f7f3cc-e439-457c-a9dd-f6fc2adac565</td>\n",
       "      <td>BUILT</td>\n",
       "      <td>skgradientboostingclassifier</td>\n",
       "      <td>-</td>\n",
       "      <td>-</td>\n",
       "      <td>-</td>\n",
       "      <td>0.005</td>\n",
       "      <td>0.007</td>\n",
       "      <td>0.005</td>\n",
       "      <td>0.005</td>\n",
       "      <td>0.005</td>\n",
       "      <td>0.005</td>\n",
       "      <td>0.012</td>\n",
       "      <td>0.009</td>\n",
       "    </tr>\n",
       "    <tr>\n",
       "      <th>1</th>\n",
       "      <td>bebe5daf-1904-4b29-bf7c-6e57e16bfc0e</td>\n",
       "      <td>BUILT</td>\n",
       "      <td>xgboostclassifier</td>\n",
       "      <td>-</td>\n",
       "      <td>-</td>\n",
       "      <td>-</td>\n",
       "      <td>0.005</td>\n",
       "      <td>0.007</td>\n",
       "      <td>0.005</td>\n",
       "      <td>0.005</td>\n",
       "      <td>0.006</td>\n",
       "      <td>0.007</td>\n",
       "      <td>0.014</td>\n",
       "      <td>0.010</td>\n",
       "    </tr>\n",
       "    <tr>\n",
       "      <th>2</th>\n",
       "      <td>1a1a700e-bd3c-4d74-939a-84827b5eece0</td>\n",
       "      <td>BUILT</td>\n",
       "      <td>sklogisticregressionclassifier</td>\n",
       "      <td>-</td>\n",
       "      <td>-</td>\n",
       "      <td>-</td>\n",
       "      <td>0.029</td>\n",
       "      <td>0.044</td>\n",
       "      <td>0.029</td>\n",
       "      <td>0.029</td>\n",
       "      <td>0.001</td>\n",
       "      <td>0.001</td>\n",
       "      <td>0.001</td>\n",
       "      <td>0.001</td>\n",
       "    </tr>\n",
       "    <tr>\n",
       "      <th>3</th>\n",
       "      <td>6f647639-82d9-45f9-9f3e-facc9c3c1320</td>\n",
       "      <td>BUILT</td>\n",
       "      <td>xgboostclassifier</td>\n",
       "      <td>-</td>\n",
       "      <td>-</td>\n",
       "      <td>-</td>\n",
       "      <td>0.054</td>\n",
       "      <td>0.081</td>\n",
       "      <td>0.054</td>\n",
       "      <td>0.052</td>\n",
       "      <td>0.005</td>\n",
       "      <td>0.011</td>\n",
       "      <td>0.014</td>\n",
       "      <td>0.031</td>\n",
       "    </tr>\n",
       "    <tr>\n",
       "      <th>4</th>\n",
       "      <td>8bb43aa4-be13-4e7b-b707-62123bce2432</td>\n",
       "      <td>BUILT</td>\n",
       "      <td>skgradientboostingclassifier</td>\n",
       "      <td>-</td>\n",
       "      <td>-</td>\n",
       "      <td>-</td>\n",
       "      <td>0.122</td>\n",
       "      <td>0.183</td>\n",
       "      <td>0.122</td>\n",
       "      <td>0.125</td>\n",
       "      <td>0.014</td>\n",
       "      <td>0.007</td>\n",
       "      <td>0.026</td>\n",
       "      <td>0.013</td>\n",
       "    </tr>\n",
       "    <tr>\n",
       "      <th>5</th>\n",
       "      <td>052d2229-8b35-4995-a4d6-149f9b64af77</td>\n",
       "      <td>BUILT</td>\n",
       "      <td>skgradientboostingclassifier</td>\n",
       "      <td>-</td>\n",
       "      <td>-</td>\n",
       "      <td>-</td>\n",
       "      <td>0.196</td>\n",
       "      <td>0.296</td>\n",
       "      <td>0.196</td>\n",
       "      <td>0.204</td>\n",
       "      <td>0.059</td>\n",
       "      <td>0.073</td>\n",
       "      <td>0.122</td>\n",
       "      <td>0.148</td>\n",
       "    </tr>\n",
       "    <tr>\n",
       "      <th>6</th>\n",
       "      <td>5bfcaaa8-6286-4a8e-a854-a63ebcb3685b</td>\n",
       "      <td>BUILT</td>\n",
       "      <td>xgboostclassifier</td>\n",
       "      <td>-</td>\n",
       "      <td>-</td>\n",
       "      <td>-</td>\n",
       "      <td>0.689</td>\n",
       "      <td>1.000</td>\n",
       "      <td>0.689</td>\n",
       "      <td>0.842</td>\n",
       "      <td>0.500</td>\n",
       "      <td>0.500</td>\n",
       "      <td>0.667</td>\n",
       "      <td>0.667</td>\n",
       "    </tr>\n",
       "    <tr>\n",
       "      <th>7</th>\n",
       "      <td>2cb19b40-7521-41a1-ab33-ef691949936a</td>\n",
       "      <td>BUILT</td>\n",
       "      <td>xgboostclassifier</td>\n",
       "      <td>-</td>\n",
       "      <td>-</td>\n",
       "      <td>-</td>\n",
       "      <td>0.689</td>\n",
       "      <td>1.000</td>\n",
       "      <td>0.689</td>\n",
       "      <td>0.842</td>\n",
       "      <td>0.510</td>\n",
       "      <td>0.500</td>\n",
       "      <td>0.673</td>\n",
       "      <td>0.667</td>\n",
       "    </tr>\n",
       "  </tbody>\n",
       "</table>\n",
       "</div>"
      ],
      "text/plain": [
       "<IPython.core.display.HTML object>"
      ]
     },
     "execution_count": 64,
     "metadata": {},
     "output_type": "execute_result"
    }
   ],
   "source": [
    "evaluation_results = prescience.get_evaluation_results(\n",
    "    dataset_id,\n",
    "    # Sort all the results by the selected scoring metric\n",
    "    sort_column=f'costs.{SCORING_METRIC}'\n",
    ")\n",
    "evaluation_results.show('html')"
   ]
  },
  {
   "cell_type": "markdown",
   "metadata": {},
   "source": [
    "You can see the evolution of optimization and evaluation results over time by ploting it :"
   ]
  },
  {
   "cell_type": "code",
   "execution_count": 65,
   "metadata": {},
   "outputs": [
    {
     "data": {
      "image/png": "[encoded data removed]",
      "text/plain": [
       "<Figure size 1080x720 with 1 Axes>"
      ]
     },
     "metadata": {
      "needs_background": "light"
     },
     "output_type": "display_data"
    }
   ],
   "source": [
    "prescience.plot_evaluations(\n",
    "    dataset_id=dataset_id,\n",
    "    scoring_metric=SCORING_METRIC\n",
    ")"
   ]
  },
  {
   "cell_type": "markdown",
   "metadata": {},
   "source": [
    "The first row of the table is the best model and configuration find. If we compare this configuration with the configuration of the model deployed we will see that they are the same."
   ]
  },
  {
   "cell_type": "code",
   "execution_count": 66,
   "metadata": {},
   "outputs": [
    {
     "name": "stdout",
     "output_type": "stream",
     "text": [
      "{\n",
      "    \"name\": \"skgradientboostingclassifier\",\n",
      "    \"display_name\": \"Gradient Boosting\",\n",
      "    \"class_identifier\": \"ensemble.GradientBoostingClassifier\",\n",
      "    \"fit_dimension\": 0,\n",
      "    \"backend\": \"sklearn\",\n",
      "    \"multioutput\": true,\n",
      "    \"kwargs\": {\n",
      "        \"loss\": \"deviance\",\n",
      "        \"criterion\": \"friedman_mse\",\n",
      "        \"max_depth\": 5,\n",
      "        \"subsample\": 0.6914557913451629,\n",
      "        \"max_features\": 0.4404447681090091,\n",
      "        \"n_estimators\": 475,\n",
      "        \"learning_rate\": 0.13535618815078243,\n",
      "        \"max_leaf_nodes\": \"None\",\n",
      "        \"min_samples_leaf\": 42,\n",
      "        \"min_samples_split\": 80,\n",
      "        \"min_impurity_decrease\": 0,\n",
      "        \"min_weight_fraction_leaf\": 0.02219003934054642\n",
      "    }\n",
      "}\n"
     ]
    }
   ],
   "source": [
    "# Show the config from the best evaluation results\n",
    "config_eval = evaluation_results.content[0].config()\n",
    "import json\n",
    "print(json.dumps(config_eval.json_dict, indent=4))"
   ]
  },
  {
   "cell_type": "code",
   "execution_count": 67,
   "metadata": {},
   "outputs": [
    {
     "name": "stdout",
     "output_type": "stream",
     "text": [
      "{\n",
      "    \"name\": \"xgboostclassifier\",\n",
      "    \"display_name\": \"XGBoost Classifier\",\n",
      "    \"class_identifier\": \"xgboost.sklearn.XGBClassifier\",\n",
      "    \"fit_dimension\": 0,\n",
      "    \"backend\": \"xgboost\",\n",
      "    \"multioutput\": false,\n",
      "    \"kwargs\": {\n",
      "        \"gamma\": 0.0,\n",
      "        \"n_jobs\": -1,\n",
      "        \"booster\": \"gbtree\",\n",
      "        \"max_depth\": 6,\n",
      "        \"objective\": \"multi:softprob\",\n",
      "        \"reg_alpha\": 0.01,\n",
      "        \"subsample\": 1.0,\n",
      "        \"reg_lambda\": 1.0,\n",
      "        \"n_estimators\": 50,\n",
      "        \"learning_rate\": 0.3,\n",
      "        \"max_delta_step\": 0,\n",
      "        \"colsample_bytree\": 1.0,\n",
      "        \"min_child_weight\": 1.0,\n",
      "        \"scale_pos_weight\": 1.0,\n",
      "        \"colsample_bylevel\": 1.0\n",
      "    }\n",
      "}\n"
     ]
    }
   ],
   "source": [
    "# Show the config from the trained model\n",
    "config_train = model.config()\n",
    "print(json.dumps(config_train.json_dict, indent=4))"
   ]
  },
  {
   "cell_type": "code",
   "execution_count": null,
   "metadata": {},
   "outputs": [],
   "source": []
  }
 ],
 "metadata": {
  "kernelspec": {
   "display_name": "Python 3",
   "language": "python",
   "name": "python3"
  },
  "language_info": {
   "codemirror_mode": {
    "name": "ipython",
    "version": 3
   },
   "file_extension": ".py",
   "mimetype": "text/x-python",
   "name": "python",
   "nbconvert_exporter": "python",
   "pygments_lexer": "ipython3",
   "version": "3.7.2"
  }
 },
 "nbformat": 4,
 "nbformat_minor": 4
}
