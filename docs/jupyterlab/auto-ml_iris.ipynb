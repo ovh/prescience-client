{
 "cells": [
  {
   "cell_type": "markdown",
   "metadata": {},
   "source": [
    "# Classification Predictions on Iris dataset\n",
    "\n",
    "In this notebook we are going to use a well known dataset [Fisher's Iris](https://en.wikipedia.org/wiki/Iris_flower_data_set) to illustrate how `classification` problems work with `Prescience`.\n",
    "\n",
    "## Initial Data Analysis\n",
    "\n",
    "We previously downloaded locally the file containing data as csv, the file is located under `data/iris.csv`. You can have a look at it directly in the notebook.\n",
    "\n",
    "Let's have a look at what is inside the first 10 rows."
   ]
  },
  {
   "cell_type": "code",
   "execution_count": 10,
   "metadata": {},
   "outputs": [
    {
     "data": {
      "text/html": [
       "<table border=\"1\" class=\"dataframe\">\n",
       "  <thead>\n",
       "    <tr style=\"text-align: right;\">\n",
       "      <th></th>\n",
       "      <th>sepal_length</th>\n",
       "      <th>sepal_width</th>\n",
       "      <th>petal_length</th>\n",
       "      <th>petal_width</th>\n",
       "      <th>label</th>\n",
       "    </tr>\n",
       "  </thead>\n",
       "  <tbody>\n",
       "    <tr>\n",
       "      <th>0</th>\n",
       "      <td>5.1</td>\n",
       "      <td>3.5</td>\n",
       "      <td>1.4</td>\n",
       "      <td>0.2</td>\n",
       "      <td>Iris-setosa</td>\n",
       "    </tr>\n",
       "    <tr>\n",
       "      <th>1</th>\n",
       "      <td>4.9</td>\n",
       "      <td>3.0</td>\n",
       "      <td>1.4</td>\n",
       "      <td>0.2</td>\n",
       "      <td>Iris-setosa</td>\n",
       "    </tr>\n",
       "    <tr>\n",
       "      <th>2</th>\n",
       "      <td>4.7</td>\n",
       "      <td>3.2</td>\n",
       "      <td>1.3</td>\n",
       "      <td>0.2</td>\n",
       "      <td>Iris-setosa</td>\n",
       "    </tr>\n",
       "    <tr>\n",
       "      <th>3</th>\n",
       "      <td>4.6</td>\n",
       "      <td>3.1</td>\n",
       "      <td>1.5</td>\n",
       "      <td>0.2</td>\n",
       "      <td>Iris-setosa</td>\n",
       "    </tr>\n",
       "    <tr>\n",
       "      <th>4</th>\n",
       "      <td>5.0</td>\n",
       "      <td>3.6</td>\n",
       "      <td>1.4</td>\n",
       "      <td>0.2</td>\n",
       "      <td>Iris-setosa</td>\n",
       "    </tr>\n",
       "    <tr>\n",
       "      <th>5</th>\n",
       "      <td>5.4</td>\n",
       "      <td>3.9</td>\n",
       "      <td>1.7</td>\n",
       "      <td>0.4</td>\n",
       "      <td>Iris-setosa</td>\n",
       "    </tr>\n",
       "    <tr>\n",
       "      <th>6</th>\n",
       "      <td>4.6</td>\n",
       "      <td>3.4</td>\n",
       "      <td>1.4</td>\n",
       "      <td>0.3</td>\n",
       "      <td>Iris-setosa</td>\n",
       "    </tr>\n",
       "    <tr>\n",
       "      <th>7</th>\n",
       "      <td>5.0</td>\n",
       "      <td>3.4</td>\n",
       "      <td>1.5</td>\n",
       "      <td>0.2</td>\n",
       "      <td>Iris-setosa</td>\n",
       "    </tr>\n",
       "    <tr>\n",
       "      <th>8</th>\n",
       "      <td>4.4</td>\n",
       "      <td>2.9</td>\n",
       "      <td>1.4</td>\n",
       "      <td>0.2</td>\n",
       "      <td>Iris-setosa</td>\n",
       "    </tr>\n",
       "    <tr>\n",
       "      <th>9</th>\n",
       "      <td>4.9</td>\n",
       "      <td>3.1</td>\n",
       "      <td>1.5</td>\n",
       "      <td>0.1</td>\n",
       "      <td>Iris-setosa</td>\n",
       "    </tr>\n",
       "  </tbody>\n",
       "</table>"
      ],
      "text/plain": [
       "<IPython.core.display.HTML object>"
      ]
     },
     "execution_count": 10,
     "metadata": {},
     "output_type": "execute_result"
    }
   ],
   "source": [
    "# Local directory in which we saved the data\n",
    "INPUT = 'data/iris.csv'\n",
    "# Our local data is a CSV and has a header row\n",
    "HAS_HEADER = True\n",
    "\n",
    "# Import pandas to easilly read CSV files and IPython.core.display.HTML to display Dataframe in browser with HTML\n",
    "import pandas\n",
    "from IPython.core.display import HTML\n",
    "\n",
    "# Read the csv data and get a pandas.Dataframe\n",
    "INITIAL_DATAFRAME = pandas.read_csv(INPUT)\n",
    "\n",
    "# Display the first 10 lines of the data into HTML\n",
    "HTML(INITIAL_DATAFRAME.head(10).to_html())"
   ]
  },
  {
   "cell_type": "markdown",
   "metadata": {},
   "source": [
    "We can see that the initial data is composed of 5 columns :\n",
    "* `sepal_length` : The length of the sepal\n",
    "* `sepal_width` : The width of the sepal\n",
    "* `petal_length` : The length of the petal\n",
    "* `petal_width` : The width of the sepal\n",
    "* `label` : The category (class) of the iris\n",
    "\n",
    "The first 4 properties are components of each iris flower : the `sepal` and the `petal` measured by their characteristics `width` and `length`.\n",
    "\n",
    "The last property is the sub-category of each iris between 3 : `Iris-setosa`, `Iris-versicolor`, `Iris-virginica`"
   ]
  },
  {
   "cell_type": "markdown",
   "metadata": {},
   "source": [
    "## Upload on Prescience and parse the data\n",
    "\n",
    "Now that we had a first look locally on our data, let's upload it on prescience.\n",
    "\n",
    "When we upload data on prescience, it automatically starts a `parse task`. A `parse task` is responsible for doing some pre-analysis on your data by creating a `source` object. You can choose the name that you want to give to your source, it is known as the `source_id`.\n",
    "\n",
    "### Name your source object"
   ]
  },
  {
   "cell_type": "code",
   "execution_count": 11,
   "metadata": {},
   "outputs": [],
   "source": [
    "# Name that you want to give to your source object\n",
    "SOURCE_ID = 'iris'"
   ]
  },
  {
   "cell_type": "markdown",
   "metadata": {},
   "source": [
    "### Launch the parse task\n",
    "\n",
    "You can lanch a `parse task` directly in your python code :"
   ]
  },
  {
   "cell_type": "code",
   "execution_count": 12,
   "metadata": {},
   "outputs": [
    {
     "name": "stdout",
     "output_type": "stream",
     "text": [
      "Uploading source with following arguments :\n",
      "{\n",
      "    \"source_id\": \"iris\",\n",
      "    \"type\": \"CSV\",\n",
      "    \"headers\": true,\n",
      "    \"separator\": \"COMMA\"\n",
      "}\n",
      "Task \u001b[33mparse\u001b[0m af469a22-8802-4922-91cc-40af3ef18c8b \u001b[32mDONE\u001b[0m\n"
     ]
    }
   ],
   "source": [
    "# Import the prescience object into your code, so you can use it\n",
    "from prescience_client import prescience\n",
    "\n",
    "# We create a local file input from our csv file\n",
    "csv_input = prescience.csv_local_file_input(INPUT, headers=HAS_HEADER)\n",
    "\n",
    "# We start a parse task on prescience and watch for it (i.e we wait until the task ends)\n",
    "parse_task = csv_input.parse(source_id=SOURCE_ID).watch()"
   ]
  },
  {
   "cell_type": "markdown",
   "metadata": {},
   "source": [
    "#### Terminal equivalent command :\n",
    "\n",
    "`prescience start parse data/iris.csv --input-type CSV --source-id iris --watch`\n",
    "\n",
    "### Show the result of the parse task"
   ]
  },
  {
   "cell_type": "markdown",
   "metadata": {},
   "source": [
    "Once the parse task is over, you can look at what prescience found as schema for your `source` object."
   ]
  },
  {
   "cell_type": "code",
   "execution_count": 13,
   "metadata": {},
   "outputs": [
    {
     "data": {
      "text/html": [
       "<div>\n",
       "<style scoped>\n",
       "    .dataframe tbody tr th:only-of-type {\n",
       "        vertical-align: middle;\n",
       "    }\n",
       "\n",
       "    .dataframe tbody tr th {\n",
       "        vertical-align: top;\n",
       "    }\n",
       "\n",
       "    .dataframe thead th {\n",
       "        text-align: right;\n",
       "    }\n",
       "</style>\n",
       "<table border=\"1\" class=\"dataframe\">\n",
       "  <thead>\n",
       "    <tr style=\"text-align: right;\">\n",
       "      <th></th>\n",
       "      <th>name</th>\n",
       "      <th>type</th>\n",
       "      <th>nullable</th>\n",
       "      <th>n_cat</th>\n",
       "      <th>ratio</th>\n",
       "      <th>n_pop</th>\n",
       "      <th>median</th>\n",
       "      <th>mode</th>\n",
       "      <th>positive</th>\n",
       "    </tr>\n",
       "  </thead>\n",
       "  <tbody>\n",
       "    <tr>\n",
       "      <th>0</th>\n",
       "      <td>sepal_length</td>\n",
       "      <td>double</td>\n",
       "      <td>True</td>\n",
       "      <td>0</td>\n",
       "      <td>None</td>\n",
       "      <td>None</td>\n",
       "      <td>5.8</td>\n",
       "      <td>None</td>\n",
       "      <td>True</td>\n",
       "    </tr>\n",
       "    <tr>\n",
       "      <th>1</th>\n",
       "      <td>sepal_width</td>\n",
       "      <td>double</td>\n",
       "      <td>True</td>\n",
       "      <td>0</td>\n",
       "      <td>None</td>\n",
       "      <td>None</td>\n",
       "      <td>3.0</td>\n",
       "      <td>None</td>\n",
       "      <td>True</td>\n",
       "    </tr>\n",
       "    <tr>\n",
       "      <th>2</th>\n",
       "      <td>petal_length</td>\n",
       "      <td>double</td>\n",
       "      <td>True</td>\n",
       "      <td>0</td>\n",
       "      <td>None</td>\n",
       "      <td>None</td>\n",
       "      <td>4.3</td>\n",
       "      <td>None</td>\n",
       "      <td>True</td>\n",
       "    </tr>\n",
       "    <tr>\n",
       "      <th>3</th>\n",
       "      <td>petal_width</td>\n",
       "      <td>double</td>\n",
       "      <td>True</td>\n",
       "      <td>0</td>\n",
       "      <td>None</td>\n",
       "      <td>None</td>\n",
       "      <td>1.3</td>\n",
       "      <td>None</td>\n",
       "      <td>True</td>\n",
       "    </tr>\n",
       "    <tr>\n",
       "      <th>4</th>\n",
       "      <td>label</td>\n",
       "      <td>string</td>\n",
       "      <td>True</td>\n",
       "      <td>3</td>\n",
       "      <td>None</td>\n",
       "      <td>None</td>\n",
       "      <td>0.0</td>\n",
       "      <td>Iris-virginica</td>\n",
       "      <td>True</td>\n",
       "    </tr>\n",
       "  </tbody>\n",
       "</table>\n",
       "</div>"
      ],
      "text/plain": [
       "<IPython.core.display.HTML object>"
      ]
     },
     "execution_count": 13,
     "metadata": {},
     "output_type": "execute_result"
    }
   ],
   "source": [
    "# We get back the created source from the finished task\n",
    "source = parse_task.source()\n",
    "\n",
    "# We display the computed sources statistics of the schema\n",
    "source.schema().show('html')"
   ]
  },
  {
   "cell_type": "markdown",
   "metadata": {},
   "source": [
    "As you can see in the previous table, the `parse` task correctly find the schema of your data as well as some statistics about it.\n",
    "\n",
    "#### Terminal equivalent command :\n",
    "\n",
    "`prescience get source iris --schema`\n",
    "\n",
    "### Retrieve all your parsed sources in your project\n",
    "At any time you can retrieve all the `sources` your parsed inside your project"
   ]
  },
  {
   "cell_type": "code",
   "execution_count": 14,
   "metadata": {},
   "outputs": [
    {
     "data": {
      "text/html": [
       "<div>\n",
       "<style scoped>\n",
       "    .dataframe tbody tr th:only-of-type {\n",
       "        vertical-align: middle;\n",
       "    }\n",
       "\n",
       "    .dataframe tbody tr th {\n",
       "        vertical-align: top;\n",
       "    }\n",
       "\n",
       "    .dataframe thead th {\n",
       "        text-align: right;\n",
       "    }\n",
       "</style>\n",
       "<table border=\"1\" class=\"dataframe\">\n",
       "  <thead>\n",
       "    <tr style=\"text-align: right;\">\n",
       "      <th></th>\n",
       "      <th>source_id</th>\n",
       "      <th>status</th>\n",
       "      <th>input_type</th>\n",
       "      <th>info</th>\n",
       "    </tr>\n",
       "  </thead>\n",
       "  <tbody>\n",
       "    <tr>\n",
       "      <th>0</th>\n",
       "      <td>iris</td>\n",
       "      <td>BUILT</td>\n",
       "      <td>CSV</td>\n",
       "      <td>None</td>\n",
       "    </tr>\n",
       "  </tbody>\n",
       "</table>\n",
       "</div>"
      ],
      "text/plain": [
       "<IPython.core.display.HTML object>"
      ]
     },
     "execution_count": 14,
     "metadata": {},
     "output_type": "execute_result"
    }
   ],
   "source": [
    "# Display the list of all sources in your prescience project\n",
    "prescience.sources().show('html')"
   ]
  },
  {
   "cell_type": "markdown",
   "metadata": {},
   "source": [
    "#### Terminal equivalent command :\n",
    "\n",
    "`prescience get sources`\n",
    "\n",
    "### Retrieve your source by its ID\n",
    "At any time you can retrieve any of your parsed `source` by its ID"
   ]
  },
  {
   "cell_type": "code",
   "execution_count": 15,
   "metadata": {},
   "outputs": [],
   "source": [
    "# Display the list of all sources in your prescience project\n",
    "source = prescience.source(SOURCE_ID)"
   ]
  },
  {
   "cell_type": "markdown",
   "metadata": {},
   "source": [
    "#### Terminal equivalent command :\n",
    "\n",
    "`prescience get source iris -o json`\n",
    "\n",
    "## Problem Definition\n",
    "\n",
    "Now we want to be able to make predictions based on this time-series and we want to let prescience infer the predictive model for us. For that purpose, we are going to start an `auto-ml task` after defining problem's metadata.\n",
    "\n",
    "### The problem type\n",
    "\n",
    "It is the problem that we want to solve. In this case it's a `time_series_forecast`."
   ]
  },
  {
   "cell_type": "code",
   "execution_count": 16,
   "metadata": {},
   "outputs": [],
   "source": [
    "PROBLEM_TYPE = 'classification'"
   ]
  },
  {
   "cell_type": "markdown",
   "metadata": {},
   "source": [
    "### The label column\n",
    "It the the column that you want to predict. In our case, it is the `label` column."
   ]
  },
  {
   "cell_type": "code",
   "execution_count": 17,
   "metadata": {},
   "outputs": [],
   "source": [
    "LABEL_COLUMN = 'label'"
   ]
  },
  {
   "cell_type": "markdown",
   "metadata": {},
   "source": [
    "### The scoring metric\n",
    "It is the metric that we want to use to evaluate the relevance of trained models. In case of `time_series_forecast` the `mean square error` (short: `mse`) is a good metric."
   ]
  },
  {
   "cell_type": "code",
   "execution_count": 18,
   "metadata": {},
   "outputs": [],
   "source": [
    "SCORING_METRIC = 'accuracy'"
   ]
  },
  {
   "cell_type": "markdown",
   "metadata": {},
   "source": [
    "## Start the Automated Machine Learning Task\n",
    "With all the previous information we can start the auto-ml task and wait for it to complete (This can take some times). We will see later that this task creates 2 objects : a `dataset` and a `model` that's why the functions returns a task and 2 identifiers."
   ]
  },
  {
   "cell_type": "code",
   "execution_count": 19,
   "metadata": {},
   "outputs": [
    {
     "name": "stdout",
     "output_type": "stream",
     "text": [
      "Starting AutoML task with following arguments :\n",
      "{\n",
      "    \"dataset_id\": \"iris_dataset_MEADQAA\",\n",
      "    \"label_id\": \"label\",\n",
      "    \"model_id\": \"iris_model_MEADQAA\",\n",
      "    \"problem_type\": \"classification\",\n",
      "    \"scoring_metric\": \"accuracy\",\n",
      "    \"custom_parameters\": {},\n",
      "    \"optimization_method\": \"SMAC\",\n",
      "    \"multiclass\": false\n",
      "}\n",
      "Task \u001b[33mmodel-metrics\u001b[0m 34826e9c-503e-439a-aceb-7f128c8bea3b \u001b[32mDONE\u001b[0m\n"
     ]
    },
    {
     "data": {
      "text/plain": [
       "<prescience_client.bean.task.Task at 0x7f551c77cdd8>"
      ]
     },
     "execution_count": 19,
     "metadata": {},
     "output_type": "execute_result"
    }
   ],
   "source": [
    "# Start an AUTO-ML task\n",
    "task, dataset_id, model_id = source.start_auto_ml(\n",
    "    label_id=LABEL_COLUMN,\n",
    "    problem_type=PROBLEM_TYPE,\n",
    "    scoring_metric=SCORING_METRIC\n",
    ")\n",
    "task.watch()"
   ]
  },
  {
   "cell_type": "markdown",
   "metadata": {},
   "source": [
    "#### Terminal equivalent command :\n",
    "\n",
    "`prescience start auto-ml iris accuracy --label label --problem-type classification --watch`\n",
    "\n",
    "## Estimate model relevancy\n",
    "\n",
    "The finality of an `auto-ml task` is to automatically find and deploy a `model` that makes correct predictions based on you initial data. You can access it by its `model_id`."
   ]
  },
  {
   "cell_type": "code",
   "execution_count": 20,
   "metadata": {},
   "outputs": [],
   "source": [
    "# Access the created model on prescience\n",
    "model = prescience.model(model_id)\n",
    "# Access model metric\n",
    "metric = model.get_metric()"
   ]
  },
  {
   "cell_type": "markdown",
   "metadata": {},
   "source": [
    "### Scores"
   ]
  },
  {
   "cell_type": "code",
   "execution_count": 22,
   "metadata": {},
   "outputs": [
    {
     "name": "stdout",
     "output_type": "stream",
     "text": [
      "{\n",
      "    \"Iris-versicolor_f1\": {\n",
      "        \"value\": 1.0,\n",
      "        \"type\": \"f1\",\n",
      "        \"label\": \"Iris-versicolor\"\n",
      "    },\n",
      "    \"Iris-versicolor_precision\": {\n",
      "        \"value\": 1.0,\n",
      "        \"type\": \"precision\",\n",
      "        \"label\": \"Iris-versicolor\"\n",
      "    },\n",
      "    \"Iris-versicolor_recall\": {\n",
      "        \"value\": 1.0,\n",
      "        \"type\": \"recall\",\n",
      "        \"label\": \"Iris-versicolor\"\n",
      "    },\n",
      "    \"Iris-virginica_precision\": {\n",
      "        \"value\": 1.0,\n",
      "        \"type\": \"precision\",\n",
      "        \"label\": \"Iris-virginica\"\n",
      "    },\n",
      "    \"roc\": {\n",
      "        \"value\": 1.0,\n",
      "        \"type\": \"roc\"\n",
      "    },\n",
      "    \"Iris-setosa_precision\": {\n",
      "        \"value\": 1.0,\n",
      "        \"type\": \"precision\",\n",
      "        \"label\": \"Iris-setosa\"\n",
      "    },\n",
      "    \"accuracy\": {\n",
      "        \"value\": 1.0,\n",
      "        \"type\": \"accuracy\"\n",
      "    },\n",
      "    \"Iris-setosa_f1\": {\n",
      "        \"value\": 1.0,\n",
      "        \"type\": \"f1\",\n",
      "        \"label\": \"Iris-setosa\"\n",
      "    },\n",
      "    \"Iris-virginica_f1\": {\n",
      "        \"value\": 1.0,\n",
      "        \"type\": \"f1\",\n",
      "        \"label\": \"Iris-virginica\"\n",
      "    },\n",
      "    \"Iris-setosa_recall\": {\n",
      "        \"value\": 1.0,\n",
      "        \"type\": \"recall\",\n",
      "        \"label\": \"Iris-setosa\"\n",
      "    },\n",
      "    \"Iris-virginica_recall\": {\n",
      "        \"value\": 1.0,\n",
      "        \"type\": \"recall\",\n",
      "        \"label\": \"Iris-virginica\"\n",
      "    },\n",
      "    \"log_loss\": {\n",
      "        \"value\": 0.016945962244507864,\n",
      "        \"type\": \"log_loss\"\n",
      "    }\n",
      "}\n"
     ]
    }
   ],
   "source": [
    "import json\n",
    "scores = metric.json_dict['scores']\n",
    "print(json.dumps(scores, indent=4))"
   ]
  },
  {
   "cell_type": "markdown",
   "metadata": {},
   "source": [
    "### Confusion Maxtrix"
   ]
  },
  {
   "cell_type": "code",
   "execution_count": 23,
   "metadata": {},
   "outputs": [
    {
     "name": "stdout",
     "output_type": "stream",
     "text": [
      "{\n",
      "    \"Iris-setosa_predict\": {\n",
      "        \"Iris-setosa_true\": 5,\n",
      "        \"Iris-virginica_true\": 0,\n",
      "        \"Iris-versicolor_true\": 0\n",
      "    },\n",
      "    \"Iris-versicolor_predict\": {\n",
      "        \"Iris-setosa_true\": 0,\n",
      "        \"Iris-virginica_true\": 0,\n",
      "        \"Iris-versicolor_true\": 5\n",
      "    },\n",
      "    \"Iris-virginica_predict\": {\n",
      "        \"Iris-setosa_true\": 0,\n",
      "        \"Iris-virginica_true\": 5,\n",
      "        \"Iris-versicolor_true\": 0\n",
      "    }\n",
      "}\n"
     ]
    }
   ],
   "source": [
    "confusion_matrix = metric.json_dict['confusion_matrix']\n",
    "print(json.dumps(confusion_matrix, indent=4))"
   ]
  },
  {
   "cell_type": "markdown",
   "metadata": {},
   "source": [
    "### ROC"
   ]
  },
  {
   "cell_type": "code",
   "execution_count": 24,
   "metadata": {},
   "outputs": [
    {
     "name": "stdout",
     "output_type": "stream",
     "text": [
      "{\n",
      "    \"auc\": 1.0,\n",
      "    \"fpr\": [\n",
      "        0.0,\n",
      "        0.0,\n",
      "        0.0,\n",
      "        0.0,\n",
      "        0.0,\n",
      "        0.09999999999999998,\n",
      "        0.19999999999999996,\n",
      "        0.30000000000000004,\n",
      "        0.4,\n",
      "        0.5,\n",
      "        0.6,\n",
      "        0.7,\n",
      "        0.8,\n",
      "        0.9,\n",
      "        1.0\n",
      "    ],\n",
      "    \"tpr\": [\n",
      "        0.2,\n",
      "        0.4,\n",
      "        0.6,\n",
      "        0.8,\n",
      "        1.0,\n",
      "        1.0,\n",
      "        1.0,\n",
      "        1.0,\n",
      "        1.0,\n",
      "        1.0,\n",
      "        1.0,\n",
      "        1.0,\n",
      "        1.0,\n",
      "        1.0,\n",
      "        1.0\n",
      "    ]\n",
      "}\n"
     ]
    }
   ],
   "source": [
    "roc = metric.json_dict['roc']\n",
    "print(json.dumps(roc, indent=4))"
   ]
  },
  {
   "cell_type": "markdown",
   "metadata": {},
   "source": [
    "## Request your own predictions\n",
    "You can then test the prediction model by filling properties by yourself, and see the result :"
   ]
  },
  {
   "cell_type": "code",
   "execution_count": 27,
   "metadata": {},
   "outputs": [],
   "source": [
    "def make_prediction(sepal_width, sepal_length, petal_width, petal_length):\n",
    "    payload = model.get_model_evaluation_payload(arguments={\n",
    "        'sepal_length': sepal_length,\n",
    "        'sepal_width': sepal_width,\n",
    "        'petal_length': petal_length,\n",
    "        'petal_width': petal_width\n",
    "    })\n",
    "    result = payload.evaluate()\n",
    "    result.show()\n",
    "    print(json.dumps(result.json_dict['result'], indent=4))\n",
    "    \n",
    "# make_prediction(sepal_width=0.1, sepal_length=0.1, petal_width=0.1, petal_length=0.1)"
   ]
  },
  {
   "cell_type": "code",
   "execution_count": 26,
   "metadata": {
    "jupyter": {
     "source_hidden": true
    }
   },
   "outputs": [
    {
     "data": {
      "application/vnd.jupyter.widget-view+json": {
       "model_id": "09a9a24c7d2b40249ab34fd2ea679127",
       "version_major": 2,
       "version_minor": 0
      },
      "text/plain": [
       "HBox(children=(FloatSlider(value=0.1, continuous_update=False, description='Sepal Width:', max=10.0, readout_f…"
      ]
     },
     "metadata": {},
     "output_type": "display_data"
    },
    {
     "data": {
      "application/vnd.jupyter.widget-view+json": {
       "model_id": "dae274f6ccf742b0839cb42a820520f8",
       "version_major": 2,
       "version_minor": 0
      },
      "text/plain": [
       "Output()"
      ]
     },
     "metadata": {},
     "output_type": "display_data"
    }
   ],
   "source": [
    "import ipywidgets as widgets\n",
    "\n",
    "FEATURES = ['sepal_width', 'sepal_length', 'petal_width', 'petal_length']\n",
    "\n",
    "sepal_width_widget = widgets.FloatSlider(\n",
    "    value=0.1,\n",
    "    min=0,\n",
    "    max=10.0,\n",
    "    step=0.1,\n",
    "    description='Sepal Width:',\n",
    "    disabled=False,\n",
    "    continuous_update=False,\n",
    "    orientation='horizontal',\n",
    "    readout=True,\n",
    "    readout_format='.1f',\n",
    ")\n",
    "sepal_length_widget = widgets.FloatSlider(\n",
    "    value=0.1,\n",
    "    min=0,\n",
    "    max=10.0,\n",
    "    step=0.1,\n",
    "    description='Sepal Length:',\n",
    "    disabled=False,\n",
    "    continuous_update=False,\n",
    "    orientation='horizontal',\n",
    "    readout=True,\n",
    "    readout_format='.1f',\n",
    ")\n",
    "petal_width_widget = widgets.FloatSlider(\n",
    "    value=0.1,\n",
    "    min=0,\n",
    "    max=10.0,\n",
    "    step=0.1,\n",
    "    description='Petal Width:',\n",
    "    disabled=False,\n",
    "    continuous_update=False,\n",
    "    orientation='horizontal',\n",
    "    readout=True,\n",
    "    readout_format='.1f',\n",
    ")\n",
    "petal_length_widget = widgets.FloatSlider(\n",
    "    value=0.1,\n",
    "    min=0,\n",
    "    max=10.0,\n",
    "    step=0.1,\n",
    "    description='Petal Length:',\n",
    "    disabled=False,\n",
    "    continuous_update=False,\n",
    "    orientation='horizontal',\n",
    "    readout=True,\n",
    "    readout_format='.1f',\n",
    ")\n",
    "\n",
    "ui = widgets.HBox([sepal_width_widget, sepal_length_widget, petal_width_widget, petal_length_widget], layout=widgets.Layout(width='100%'))\n",
    "out = widgets.interactive_output(make_prediction, {\n",
    "    'sepal_width': sepal_width_widget,\n",
    "    'sepal_length': sepal_length_widget,\n",
    "    'petal_width': petal_width_widget,\n",
    "    'petal_length': petal_length_widget\n",
    "})\n",
    "display(ui, out)"
   ]
  },
  {
   "cell_type": "markdown",
   "metadata": {},
   "source": [
    "## Under the hood\n",
    "\n",
    "As already told before, an auto-ml tasks start from a source object and creates 2 other objects, first a dataset and then a model. You can see the relationship between each other by doing so : "
   ]
  },
  {
   "cell_type": "code",
   "execution_count": 29,
   "metadata": {},
   "outputs": [
    {
     "name": "stdout",
     "output_type": "stream",
     "text": [
      "Source(iris)\n",
      " +-- Dataset(iris_dataset_MEADQAA)\n",
      "     +-- Model(iris_model_MEADQAA)\n"
     ]
    }
   ],
   "source": [
    "source.tree().show()"
   ]
  },
  {
   "cell_type": "markdown",
   "metadata": {},
   "source": [
    "### The Source object\n",
    "\n",
    "The source object is almost like your original data, except that it holds some metadata inside that have been computed during the parse tasks. We wont describe all the metadata here but this is several statistics like :\n",
    "* The standard deviation for each column\n",
    "* The type of data contained in the column (integer, boolean, text, etc...)\n",
    "* If the column can contains `null` values\n",
    "* etc...\n",
    "\n",
    "You can see the computed statistic on your source by doing so :"
   ]
  },
  {
   "cell_type": "code",
   "execution_count": 30,
   "metadata": {},
   "outputs": [
    {
     "data": {
      "text/html": [
       "<div>\n",
       "<style scoped>\n",
       "    .dataframe tbody tr th:only-of-type {\n",
       "        vertical-align: middle;\n",
       "    }\n",
       "\n",
       "    .dataframe tbody tr th {\n",
       "        vertical-align: top;\n",
       "    }\n",
       "\n",
       "    .dataframe thead th {\n",
       "        text-align: right;\n",
       "    }\n",
       "</style>\n",
       "<table border=\"1\" class=\"dataframe\">\n",
       "  <thead>\n",
       "    <tr style=\"text-align: right;\">\n",
       "      <th></th>\n",
       "      <th>name</th>\n",
       "      <th>type</th>\n",
       "      <th>nullable</th>\n",
       "      <th>n_cat</th>\n",
       "      <th>ratio</th>\n",
       "      <th>n_pop</th>\n",
       "      <th>median</th>\n",
       "      <th>mode</th>\n",
       "      <th>positive</th>\n",
       "    </tr>\n",
       "  </thead>\n",
       "  <tbody>\n",
       "    <tr>\n",
       "      <th>0</th>\n",
       "      <td>sepal_length</td>\n",
       "      <td>double</td>\n",
       "      <td>True</td>\n",
       "      <td>0</td>\n",
       "      <td>None</td>\n",
       "      <td>None</td>\n",
       "      <td>5.8</td>\n",
       "      <td>None</td>\n",
       "      <td>True</td>\n",
       "    </tr>\n",
       "    <tr>\n",
       "      <th>1</th>\n",
       "      <td>sepal_width</td>\n",
       "      <td>double</td>\n",
       "      <td>True</td>\n",
       "      <td>0</td>\n",
       "      <td>None</td>\n",
       "      <td>None</td>\n",
       "      <td>3.0</td>\n",
       "      <td>None</td>\n",
       "      <td>True</td>\n",
       "    </tr>\n",
       "    <tr>\n",
       "      <th>2</th>\n",
       "      <td>petal_length</td>\n",
       "      <td>double</td>\n",
       "      <td>True</td>\n",
       "      <td>0</td>\n",
       "      <td>None</td>\n",
       "      <td>None</td>\n",
       "      <td>4.3</td>\n",
       "      <td>None</td>\n",
       "      <td>True</td>\n",
       "    </tr>\n",
       "    <tr>\n",
       "      <th>3</th>\n",
       "      <td>petal_width</td>\n",
       "      <td>double</td>\n",
       "      <td>True</td>\n",
       "      <td>0</td>\n",
       "      <td>None</td>\n",
       "      <td>None</td>\n",
       "      <td>1.3</td>\n",
       "      <td>None</td>\n",
       "      <td>True</td>\n",
       "    </tr>\n",
       "    <tr>\n",
       "      <th>4</th>\n",
       "      <td>label</td>\n",
       "      <td>string</td>\n",
       "      <td>True</td>\n",
       "      <td>3</td>\n",
       "      <td>None</td>\n",
       "      <td>None</td>\n",
       "      <td>0.0</td>\n",
       "      <td>Iris-virginica</td>\n",
       "      <td>True</td>\n",
       "    </tr>\n",
       "  </tbody>\n",
       "</table>\n",
       "</div>"
      ],
      "text/plain": [
       "<IPython.core.display.HTML object>"
      ]
     },
     "execution_count": 30,
     "metadata": {},
     "output_type": "execute_result"
    }
   ],
   "source": [
    "source.schema().show('html')"
   ]
  },
  {
   "cell_type": "markdown",
   "metadata": {},
   "source": [
    "You can even plot your source object if you want to visually see your timeserie. For doing so you will just need to indicate the name of the column used as `x` and the name if the column used as 'y'."
   ]
  },
  {
   "cell_type": "code",
   "execution_count": 40,
   "metadata": {},
   "outputs": [],
   "source": [
    "import matplotlib\n",
    "matplotlib.pyplot.rcParams[\"figure.figsize\"] = (8, 8)\n",
    "\n",
    "def plot_source(x, y):\n",
    "    source.plot(x=x, y=y, clss=LABEL_COLUMN)"
   ]
  },
  {
   "cell_type": "code",
   "execution_count": 41,
   "metadata": {
    "jupyter": {
     "source_hidden": true
    }
   },
   "outputs": [
    {
     "data": {
      "application/vnd.jupyter.widget-view+json": {
       "model_id": "b8afa9add0a8488486940f3fa8354005",
       "version_major": 2,
       "version_minor": 0
      },
      "text/plain": [
       "HBox(children=(Dropdown(description='X axe :', options=('sepal_width', 'sepal_length', 'petal_width', 'petal_l…"
      ]
     },
     "metadata": {},
     "output_type": "display_data"
    },
    {
     "data": {
      "application/vnd.jupyter.widget-view+json": {
       "model_id": "6b5293673e4e4cc7b34c291d38795cb2",
       "version_major": 2,
       "version_minor": 0
      },
      "text/plain": [
       "Output()"
      ]
     },
     "metadata": {},
     "output_type": "display_data"
    }
   ],
   "source": [
    "import ipywidgets as widgets\n",
    "\n",
    "FEATURES = ['sepal_width', 'sepal_length', 'petal_width', 'petal_length']\n",
    "\n",
    "x_axe = widgets.Dropdown(\n",
    "    options=FEATURES,\n",
    "    value=FEATURES[0],\n",
    "    description='X axe :',\n",
    "    disabled=False,\n",
    ")\n",
    "y_axe = widgets.Dropdown(\n",
    "    options=FEATURES,\n",
    "    value=FEATURES[-1],\n",
    "    description='Y axe :',\n",
    "    disabled=False,\n",
    ")\n",
    "\n",
    "ui = widgets.HBox([x_axe, y_axe], layout=widgets.Layout(width='100%'))\n",
    "out = widgets.interactive_output(plot_source, {'x': x_axe, 'y': y_axe})\n",
    "display(ui, out)"
   ]
  },
  {
   "cell_type": "markdown",
   "metadata": {},
   "source": [
    "### The dataset object\n",
    "\n",
    "The `dataset` object contains the same data than in your `source` except that :\n",
    "\n",
    "* Your source data has been split into `n` subsets that we call `fold`.\n",
    "* Each fold contains a `train` part and a `test` part. Machine Learning algorithm will train only on the `train` part and they will be evaluated on the `test` part. It is a standard process in machine learning in order to evaluate relevancy of machine learning algorithms on data that they have never seen before.\n",
    "* The data (and columns name) has been transformed so that it can be understandable by machine learning algorithms (exemple : standardization). The rules of transformation won't be described here but all you have to know is that previously computed statistics are used to choose the good transformation strategy.\n",
    "\n",
    "Example when showing the first 10 lines of the first fold :"
   ]
  },
  {
   "cell_type": "code",
   "execution_count": 33,
   "metadata": {},
   "outputs": [
    {
     "name": "stdout",
     "output_type": "stream",
     "text": [
      "Directory '/tmp/.prescience/cache/datasets/iris_dataset_MEADQAA/fold/0/train' doesn't exists. Creating it...\n",
      "Updating cache for source 'iris_dataset_MEADQAA' : /tmp/.prescience/cache/datasets/iris_dataset_MEADQAA/fold/0/train\n"
     ]
    },
    {
     "data": {
      "text/html": [
       "<table border=\"1\" class=\"dataframe\">\n",
       "  <thead>\n",
       "    <tr style=\"text-align: right;\">\n",
       "      <th></th>\n",
       "      <th>label</th>\n",
       "      <th>scaled_imputed_sepal_width</th>\n",
       "      <th>scaled_imputed_petal_width</th>\n",
       "      <th>scaled_imputed_petal_length</th>\n",
       "      <th>scaled_imputed_sepal_length</th>\n",
       "    </tr>\n",
       "  </thead>\n",
       "  <tbody>\n",
       "    <tr>\n",
       "      <th>0</th>\n",
       "      <td>Iris-setosa</td>\n",
       "      <td>1.089591</td>\n",
       "      <td>-1.305285</td>\n",
       "      <td>-1.336141</td>\n",
       "      <td>-0.895192</td>\n",
       "    </tr>\n",
       "    <tr>\n",
       "      <th>1</th>\n",
       "      <td>Iris-setosa</td>\n",
       "      <td>0.128187</td>\n",
       "      <td>-1.305285</td>\n",
       "      <td>-1.279149</td>\n",
       "      <td>-1.509271</td>\n",
       "    </tr>\n",
       "    <tr>\n",
       "      <th>2</th>\n",
       "      <td>Iris-setosa</td>\n",
       "      <td>1.329942</td>\n",
       "      <td>-1.305285</td>\n",
       "      <td>-1.336141</td>\n",
       "      <td>-1.018007</td>\n",
       "    </tr>\n",
       "    <tr>\n",
       "      <th>3</th>\n",
       "      <td>Iris-setosa</td>\n",
       "      <td>0.849240</td>\n",
       "      <td>-1.305285</td>\n",
       "      <td>-1.279149</td>\n",
       "      <td>-1.018007</td>\n",
       "    </tr>\n",
       "    <tr>\n",
       "      <th>4</th>\n",
       "      <td>Iris-setosa</td>\n",
       "      <td>1.570293</td>\n",
       "      <td>-1.305285</td>\n",
       "      <td>-1.279149</td>\n",
       "      <td>-0.526744</td>\n",
       "    </tr>\n",
       "    <tr>\n",
       "      <th>5</th>\n",
       "      <td>Iris-setosa</td>\n",
       "      <td>0.849240</td>\n",
       "      <td>-1.305285</td>\n",
       "      <td>-1.222157</td>\n",
       "      <td>-1.263639</td>\n",
       "    </tr>\n",
       "    <tr>\n",
       "      <th>6</th>\n",
       "      <td>Iris-setosa</td>\n",
       "      <td>-0.112164</td>\n",
       "      <td>-1.436690</td>\n",
       "      <td>-1.507116</td>\n",
       "      <td>-1.877719</td>\n",
       "    </tr>\n",
       "    <tr>\n",
       "      <th>7</th>\n",
       "      <td>Iris-setosa</td>\n",
       "      <td>2.291346</td>\n",
       "      <td>-1.305285</td>\n",
       "      <td>-1.450125</td>\n",
       "      <td>-0.035480</td>\n",
       "    </tr>\n",
       "    <tr>\n",
       "      <th>8</th>\n",
       "      <td>Iris-setosa</td>\n",
       "      <td>2.050995</td>\n",
       "      <td>-1.042476</td>\n",
       "      <td>-1.393133</td>\n",
       "      <td>-0.526744</td>\n",
       "    </tr>\n",
       "    <tr>\n",
       "      <th>9</th>\n",
       "      <td>Iris-setosa</td>\n",
       "      <td>1.810644</td>\n",
       "      <td>-1.173880</td>\n",
       "      <td>-1.165166</td>\n",
       "      <td>-0.158296</td>\n",
       "    </tr>\n",
       "  </tbody>\n",
       "</table>"
      ],
      "text/plain": [
       "<IPython.core.display.HTML object>"
      ]
     },
     "execution_count": 33,
     "metadata": {},
     "output_type": "execute_result"
    }
   ],
   "source": [
    "df = prescience.fold_dataframe(dataset_id=dataset_id, fold_number=0, test_part=False)\n",
    "HTML(df.head(10).to_html())"
   ]
  },
  {
   "cell_type": "markdown",
   "metadata": {},
   "source": [
    "You can plot each fold of the dataset to see the difference with the source :"
   ]
  },
  {
   "cell_type": "code",
   "execution_count": 42,
   "metadata": {},
   "outputs": [],
   "source": [
    "import matplotlib\n",
    "matplotlib.pyplot.rcParams[\"figure.figsize\"] = (8, 8)\n",
    "\n",
    "def plot_fold(train_test, fold_number, x, y):\n",
    "    prescience.plot_dataset(\n",
    "        dataset_id=dataset_id,\n",
    "        plot_train=(train_test=='train'),\n",
    "        plot_test=(train_test=='test'),\n",
    "        fold_number=fold_number,\n",
    "        x=x,\n",
    "        y=y,\n",
    "        clss=LABEL_COLUMN\n",
    "    )"
   ]
  },
  {
   "cell_type": "code",
   "execution_count": 43,
   "metadata": {
    "jupyter": {
     "source_hidden": true
    }
   },
   "outputs": [
    {
     "data": {
      "application/vnd.jupyter.widget-view+json": {
       "model_id": "417f1610b1e4452f9597dda61fccd1b0",
       "version_major": 2,
       "version_minor": 0
      },
      "text/plain": [
       "HBox(children=(Dropdown(description='Part', options=('train', 'test'), value='train'), Dropdown(description='F…"
      ]
     },
     "metadata": {},
     "output_type": "display_data"
    },
    {
     "data": {
      "application/vnd.jupyter.widget-view+json": {
       "model_id": "d6d72db514334d15a050e2fc45aa8166",
       "version_major": 2,
       "version_minor": 0
      },
      "text/plain": [
       "Output()"
      ]
     },
     "metadata": {},
     "output_type": "display_data"
    }
   ],
   "source": [
    "import ipywidgets as widgets\n",
    "\n",
    "FEATURES_SCALED = ['scaled_imputed_sepal_width', 'scaled_imputed_petal_width', 'scaled_imputed_petal_length', 'scaled_imputed_sepal_length']\n",
    "TRAIN_TEST = ['train', 'test']\n",
    "FOLDS = [x for x in range(0, 3)]\n",
    "\n",
    "train_test = widgets.Dropdown(\n",
    "    options=TRAIN_TEST,\n",
    "    value=TRAIN_TEST[0],\n",
    "    description='Part',\n",
    "    disabled=False,\n",
    ")\n",
    "fold_number = widgets.Dropdown(\n",
    "    options=FOLDS,\n",
    "    value=FOLDS[0],\n",
    "    description='Fold number',\n",
    "    disabled=False,\n",
    ")\n",
    "x_axe_scaled = widgets.Dropdown(\n",
    "    options=FEATURES_SCALED,\n",
    "    value=FEATURES_SCALED[0],\n",
    "    description='X axe :',\n",
    "    disabled=False,\n",
    ")\n",
    "y_axe_scaled = widgets.Dropdown(\n",
    "    options=FEATURES_SCALED,\n",
    "    value=FEATURES_SCALED[-1],\n",
    "    description='Y axe :',\n",
    "    disabled=False,\n",
    ")\n",
    "\n",
    "ui = widgets.HBox([train_test, fold_number, x_axe, y_axe], layout=widgets.Layout(width='100%'))\n",
    "out = widgets.interactive_output(plot_fold, {'train_test': train_test, 'fold_number': fold_number, 'x': x_axe_scaled, 'y': y_axe_scaled})\n",
    "display(ui, out)"
   ]
  },
  {
   "cell_type": "markdown",
   "metadata": {},
   "source": [
    "### The model object\n",
    "\n",
    "The `model` object is created from a `dataset` with a `train task` however a train task needs to be launched on a specific machine learning algorithm with defined parameters. That's why there is an intermediate task which is called the `optimization task`.\n",
    "\n",
    "The aim of an optimization task is to use the previously created folds of our dataset to train a lot of machine learning algorithms with different hyperparameters, evaluate them and find the best.\n",
    "\n",
    "All results of evaluations are stored in prescience into objects called `evaluations results`. You can request the visualisation of previously computed evaluation by doing so :"
   ]
  },
  {
   "cell_type": "code",
   "execution_count": 44,
   "metadata": {},
   "outputs": [
    {
     "data": {
      "text/html": [
       "<div>\n",
       "<style scoped>\n",
       "    .dataframe tbody tr th:only-of-type {\n",
       "        vertical-align: middle;\n",
       "    }\n",
       "\n",
       "    .dataframe tbody tr th {\n",
       "        vertical-align: top;\n",
       "    }\n",
       "\n",
       "    .dataframe thead th {\n",
       "        text-align: right;\n",
       "    }\n",
       "</style>\n",
       "<table border=\"1\" class=\"dataframe\">\n",
       "  <thead>\n",
       "    <tr style=\"text-align: right;\">\n",
       "      <th></th>\n",
       "      <th>uuid</th>\n",
       "      <th>status</th>\n",
       "      <th>config_name</th>\n",
       "      <th>past_steps</th>\n",
       "      <th>horizon</th>\n",
       "      <th>discount</th>\n",
       "      <th>accuracy_cost</th>\n",
       "      <th>cohen_kappa_cost</th>\n",
       "      <th>f1_micro_cost</th>\n",
       "      <th>f1_macro_cost</th>\n",
       "      <th>roc_auc_micro_cost</th>\n",
       "      <th>roc_auc_macro_cost</th>\n",
       "      <th>average_precision_micro_cost</th>\n",
       "      <th>average_precision_macro_cost</th>\n",
       "    </tr>\n",
       "  </thead>\n",
       "  <tbody>\n",
       "    <tr>\n",
       "      <th>0</th>\n",
       "      <td>e1de67a1-14f8-4703-9259-8682e00afb43</td>\n",
       "      <td>BUILT</td>\n",
       "      <td>sklogisticregressionclassifier</td>\n",
       "      <td>-</td>\n",
       "      <td>-</td>\n",
       "      <td>-</td>\n",
       "      <td>0.037</td>\n",
       "      <td>0.056</td>\n",
       "      <td>0.037</td>\n",
       "      <td>0.037</td>\n",
       "      <td>0.002</td>\n",
       "      <td>0.002</td>\n",
       "      <td>0.004</td>\n",
       "      <td>0.005</td>\n",
       "    </tr>\n",
       "    <tr>\n",
       "      <th>1</th>\n",
       "      <td>c845f141-4071-4eba-af1b-803769acd73c</td>\n",
       "      <td>BUILT</td>\n",
       "      <td>skgradientboostingclassifier</td>\n",
       "      <td>-</td>\n",
       "      <td>-</td>\n",
       "      <td>-</td>\n",
       "      <td>0.052</td>\n",
       "      <td>0.078</td>\n",
       "      <td>0.052</td>\n",
       "      <td>0.052</td>\n",
       "      <td>0.013</td>\n",
       "      <td>0.014</td>\n",
       "      <td>0.026</td>\n",
       "      <td>0.026</td>\n",
       "    </tr>\n",
       "    <tr>\n",
       "      <th>2</th>\n",
       "      <td>487edbb3-2329-4b8a-acf1-dc7ede8d9b45</td>\n",
       "      <td>BUILT</td>\n",
       "      <td>xgboostclassifier</td>\n",
       "      <td>-</td>\n",
       "      <td>-</td>\n",
       "      <td>-</td>\n",
       "      <td>0.067</td>\n",
       "      <td>0.100</td>\n",
       "      <td>0.067</td>\n",
       "      <td>0.067</td>\n",
       "      <td>0.014</td>\n",
       "      <td>0.016</td>\n",
       "      <td>0.035</td>\n",
       "      <td>0.039</td>\n",
       "    </tr>\n",
       "    <tr>\n",
       "      <th>3</th>\n",
       "      <td>55c601ff-b63b-473c-8001-77f24ae091f8</td>\n",
       "      <td>BUILT</td>\n",
       "      <td>skgradientboostingclassifier</td>\n",
       "      <td>-</td>\n",
       "      <td>-</td>\n",
       "      <td>-</td>\n",
       "      <td>0.067</td>\n",
       "      <td>0.100</td>\n",
       "      <td>0.067</td>\n",
       "      <td>0.067</td>\n",
       "      <td>0.022</td>\n",
       "      <td>0.027</td>\n",
       "      <td>0.044</td>\n",
       "      <td>0.060</td>\n",
       "    </tr>\n",
       "    <tr>\n",
       "      <th>4</th>\n",
       "      <td>62b1f5cc-65b7-4e02-86f0-36af458c06fd</td>\n",
       "      <td>BUILT</td>\n",
       "      <td>skgradientboostingclassifier</td>\n",
       "      <td>-</td>\n",
       "      <td>-</td>\n",
       "      <td>-</td>\n",
       "      <td>0.667</td>\n",
       "      <td>1.000</td>\n",
       "      <td>0.667</td>\n",
       "      <td>0.833</td>\n",
       "      <td>0.500</td>\n",
       "      <td>0.500</td>\n",
       "      <td>0.667</td>\n",
       "      <td>0.667</td>\n",
       "    </tr>\n",
       "    <tr>\n",
       "      <th>5</th>\n",
       "      <td>7a1884eb-5b83-43a6-8e09-33d14e208f14</td>\n",
       "      <td>BUILT</td>\n",
       "      <td>xgboostclassifier</td>\n",
       "      <td>-</td>\n",
       "      <td>-</td>\n",
       "      <td>-</td>\n",
       "      <td>0.667</td>\n",
       "      <td>1.000</td>\n",
       "      <td>0.667</td>\n",
       "      <td>0.833</td>\n",
       "      <td>0.500</td>\n",
       "      <td>0.500</td>\n",
       "      <td>0.667</td>\n",
       "      <td>0.667</td>\n",
       "    </tr>\n",
       "    <tr>\n",
       "      <th>6</th>\n",
       "      <td>d48a3106-f25a-4f45-9fdb-909d363287f7</td>\n",
       "      <td>BUILT</td>\n",
       "      <td>xgboostclassifier</td>\n",
       "      <td>-</td>\n",
       "      <td>-</td>\n",
       "      <td>-</td>\n",
       "      <td>0.667</td>\n",
       "      <td>1.000</td>\n",
       "      <td>0.667</td>\n",
       "      <td>0.833</td>\n",
       "      <td>0.500</td>\n",
       "      <td>0.500</td>\n",
       "      <td>0.667</td>\n",
       "      <td>0.667</td>\n",
       "    </tr>\n",
       "    <tr>\n",
       "      <th>7</th>\n",
       "      <td>dc46c659-5f15-425c-8a66-ce621f3924a3</td>\n",
       "      <td>BUILT</td>\n",
       "      <td>skgradientboostingclassifier</td>\n",
       "      <td>-</td>\n",
       "      <td>-</td>\n",
       "      <td>-</td>\n",
       "      <td>0.667</td>\n",
       "      <td>1.000</td>\n",
       "      <td>0.667</td>\n",
       "      <td>0.833</td>\n",
       "      <td>0.500</td>\n",
       "      <td>0.500</td>\n",
       "      <td>0.667</td>\n",
       "      <td>0.667</td>\n",
       "    </tr>\n",
       "  </tbody>\n",
       "</table>\n",
       "</div>"
      ],
      "text/plain": [
       "<IPython.core.display.HTML object>"
      ]
     },
     "execution_count": 44,
     "metadata": {},
     "output_type": "execute_result"
    }
   ],
   "source": [
    "evaluation_results = prescience.get_evaluation_results(\n",
    "    dataset_id,\n",
    "    # Sort all the results by the selected scoring metric\n",
    "    sort_column=f'costs.{SCORING_METRIC}'\n",
    ")\n",
    "evaluation_results.show('html')"
   ]
  },
  {
   "cell_type": "markdown",
   "metadata": {},
   "source": [
    "You can see the evolution of optimization and evaluation results over time by ploting it :"
   ]
  },
  {
   "cell_type": "code",
   "execution_count": 45,
   "metadata": {},
   "outputs": [
    {
     "data": {
      "image/png": "[encoded data removed]",
      "text/plain": [
       "<Figure size 1440x360 with 1 Axes>"
      ]
     },
     "metadata": {
      "needs_background": "light"
     },
     "output_type": "display_data"
    }
   ],
   "source": [
    "import matplotlib\n",
    "matplotlib.pyplot.rcParams[\"figure.figsize\"] = (20, 5)\n",
    "\n",
    "prescience.plot_evaluations(\n",
    "    dataset_id=dataset_id,\n",
    "    scoring_metric=SCORING_METRIC\n",
    ")"
   ]
  },
  {
   "cell_type": "markdown",
   "metadata": {},
   "source": [
    "The first row of the table is the best model and configuration find. If we compare this configuration with the configuration of the model deployed we will see that they are the same."
   ]
  },
  {
   "cell_type": "code",
   "execution_count": 46,
   "metadata": {},
   "outputs": [
    {
     "name": "stdout",
     "output_type": "stream",
     "text": [
      "{\n",
      "    \"name\": \"sklogisticregressionclassifier\",\n",
      "    \"display_name\": \"Logistic Regression\",\n",
      "    \"class_identifier\": \"linear_model.LogisticRegression\",\n",
      "    \"fit_dimension\": 0,\n",
      "    \"backend\": \"sklearn\",\n",
      "    \"multioutput\": false,\n",
      "    \"kwargs\": {\n",
      "        \"C\": 1.0,\n",
      "        \"tol\": 0.0001,\n",
      "        \"dual\": \"False\",\n",
      "        \"n_jobs\": -1,\n",
      "        \"solver\": \"saga\",\n",
      "        \"penalty\": \"l2\",\n",
      "        \"max_iter\": 100,\n",
      "        \"multi_class\": \"multinomial\",\n",
      "        \"class_weight\": \"None\",\n",
      "        \"fit_intercept\": \"True\",\n",
      "        \"intercept_scaling\": 1\n",
      "    }\n",
      "}\n"
     ]
    }
   ],
   "source": [
    "# Show the config from the best evaluation results\n",
    "config_eval = evaluation_results.content[0].config()\n",
    "import json\n",
    "print(json.dumps(config_eval.json_dict, indent=4))"
   ]
  },
  {
   "cell_type": "code",
   "execution_count": 47,
   "metadata": {},
   "outputs": [
    {
     "name": "stdout",
     "output_type": "stream",
     "text": [
      "{\n",
      "    \"name\": \"sklogisticregressionclassifier\",\n",
      "    \"display_name\": \"Logistic Regression\",\n",
      "    \"class_identifier\": \"linear_model.LogisticRegression\",\n",
      "    \"fit_dimension\": 0,\n",
      "    \"backend\": \"sklearn\",\n",
      "    \"multioutput\": false,\n",
      "    \"kwargs\": {\n",
      "        \"C\": 1.0,\n",
      "        \"tol\": 0.0001,\n",
      "        \"dual\": \"False\",\n",
      "        \"n_jobs\": -1,\n",
      "        \"solver\": \"saga\",\n",
      "        \"penalty\": \"l2\",\n",
      "        \"max_iter\": 100,\n",
      "        \"multi_class\": \"multinomial\",\n",
      "        \"class_weight\": \"None\",\n",
      "        \"fit_intercept\": \"True\",\n",
      "        \"intercept_scaling\": 1\n",
      "    }\n",
      "}\n"
     ]
    }
   ],
   "source": [
    "# Show the config from the trained model\n",
    "config_train = model.config()\n",
    "print(json.dumps(config_train.json_dict, indent=4))"
   ]
  },
  {
   "cell_type": "code",
   "execution_count": null,
   "metadata": {},
   "outputs": [],
   "source": []
  }
 ],
 "metadata": {
  "kernelspec": {
   "display_name": "Python 3",
   "language": "python",
   "name": "python3"
  },
  "language_info": {
   "codemirror_mode": {
    "name": "ipython",
    "version": 3
   },
   "file_extension": ".py",
   "mimetype": "text/x-python",
   "name": "python",
   "nbconvert_exporter": "python",
   "pygments_lexer": "ipython3",
   "version": "3.7.2"
  }
 },
 "nbformat": 4,
 "nbformat_minor": 4
}
