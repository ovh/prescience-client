{
 "cells": [
  {
   "cell_type": "markdown",
   "metadata": {},
   "source": [
    "# Welcome on the Jupyter notebook for the prescience python client !\n",
    "\n",
    "Before you can start using this notebook, don't forget to fill your token below.\n",
    "\n",
    "If you don't have a prescience token yet, you can request one [here](https://survey.ovh.com/index.php/379341?lang=en)"
   ]
  },
  {
   "cell_type": "code",
   "execution_count": 47,
   "metadata": {},
   "outputs": [],
   "source": [
    "TOKEN = ''"
   ]
  },
  {
   "cell_type": "markdown",
   "metadata": {},
   "source": [
    "One you have filled your token, please run this notebook so we can set up everyhting :\n",
    "\n",
    "Menu :\n",
    "* Run\n",
    "* Run all Cells"
   ]
  },
  {
   "cell_type": "code",
   "execution_count": 48,
   "metadata": {
    "jupyter": {
     "source_hidden": true
    }
   },
   "outputs": [
    {
     "name": "stdout",
     "output_type": "stream",
     "text": [
      ""
     ]
    }
   ],
   "source": [
    "from prescience_client import prescience\n",
    "from termcolor import colored\n",
    "from prescience_client.exception.prescience_client_exception import PrescienceClientException, PrescienceException\n",
    "\n",
    "prescience.config().set_project('default', TOKEN)\n",
    "\n",
    "try:\n",
    "    if TOKEN == '' or TOKEN is None:\n",
    "        raise PrescienceClientException(Exception('Your TOKEN is not set, please fill it.'))\n",
    "    prescience.sources()\n",
    "    print(f'--------------[{colored(\"DONE\", \"green\")}]--------------')\n",
    "    print('Everything is fine ! You can start using this notebook on your project')\n",
    "    print('-----------------------------------')\n",
    "except PrescienceException as e:\n",
    "    e.print()\n",
    "except Exception as e:\n",
    "    print(e)"
   ]
  }
 ],
 "metadata": {
  "kernelspec": {
   "display_name": "Python 3",
   "language": "python",
   "name": "python3"
  },
  "language_info": {
   "codemirror_mode": {
    "name": "ipython",
    "version": 3
   },
   "file_extension": ".py",
   "mimetype": "text/x-python",
   "name": "python",
   "nbconvert_exporter": "python",
   "pygments_lexer": "ipython3",
   "version": "3.7.2"
  }
 },
 "nbformat": 4,
 "nbformat_minor": 4
}
