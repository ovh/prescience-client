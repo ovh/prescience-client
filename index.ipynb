{
 "cells": [
  {
   "cell_type": "markdown",
   "metadata": {},
   "source": [
    "# Welcome on the Jupyter notebook for the prescience python client !\n",
    "\n",
    "Before you can start using this `Jupyterlab`, don't forget to :\n",
    "* Run this notebook first\n",
    "* Then fill your prescience token on the text area\n",
    "* Click on the button\n",
    "\n",
    "## How to run this notebook ?\n",
    "On the jupyter menu : `Run` > `Run all Cells`\n",
    "\n",
    "## How to Get a prescience token ?\n",
    "If you don't have a prescience token yet, you can request one [here](https://survey.ovh.com/index.php/379341?lang=en)"
   ]
  },
  {
   "cell_type": "code",
   "execution_count": 3,
   "metadata": {
    "jupyter": {
     "source_hidden": true
    }
   },
   "outputs": [
    {
     "data": {
      "application/vnd.jupyter.widget-view+json": {
       "model_id": "5f03da8ca35848f7bf45f73c1d01a39c",
       "version_major": 2,
       "version_minor": 0
      },
      "text/plain": [
       "Textarea(value='', description='Your token :', layout=Layout(width='100%'))"
      ]
     },
     "metadata": {},
     "output_type": "display_data"
    },
    {
     "data": {
      "application/vnd.jupyter.widget-view+json": {
       "model_id": "4566620394824e11be01eef0af88af30",
       "version_major": 2,
       "version_minor": 0
      },
      "text/plain": [
       "Button(description='Click here to use this token on this notebook', icon='check', layout=Layout(width='100%'),…"
      ]
     },
     "metadata": {},
     "output_type": "display_data"
    },
    {
     "data": {
      "application/vnd.jupyter.widget-view+json": {
       "model_id": "42748f0f1055480bad3938da50e4a6c1",
       "version_major": 2,
       "version_minor": 0
      },
      "text/plain": [
       "Output()"
      ]
     },
     "metadata": {},
     "output_type": "display_data"
    }
   ],
   "source": [
    "from IPython.display import display\n",
    "import ipywidgets as widgets\n",
    "from ipywidgets import HBox, Layout\n",
    "\n",
    "from prescience_client import prescience\n",
    "from termcolor import colored\n",
    "from prescience_client.exception.prescience_client_exception import PrescienceClientException, PrescienceException\n",
    "\n",
    "text = widgets.Textarea(\n",
    "    value='',\n",
    "    description='Your token :',\n",
    "    disabled=False,\n",
    "    layout=Layout(width='100%')\n",
    ")\n",
    "HBox([text], layout=Layout(width='100%'))\n",
    "\n",
    "def on_button_clicked(b):\n",
    "    with output:\n",
    "        output.clear_output()\n",
    "        set_token()\n",
    "\n",
    "def set_token():\n",
    "    token = text.value\n",
    "    try:\n",
    "        if token == '' or token is None:\n",
    "            raise PrescienceClientException(Exception('Your TOKEN is not set, please fill it.'))\n",
    "        prescience.config().set_project('default', token)\n",
    "        prescience.sources()\n",
    "        print(f'--------------[{colored(\"DONE\", \"green\")}]--------------')\n",
    "        print('Everything is fine ! You can start using this notebook on your project')\n",
    "        print('-----------------------------------')\n",
    "    except PrescienceException as e:\n",
    "        e.print()\n",
    "    except Exception as e:\n",
    "        print(e)\n",
    "\n",
    "button = widgets.Button(\n",
    "    description=\"Click here to use this token on this notebook\",\n",
    "    icon='check',\n",
    "    layout=Layout(width='100%')\n",
    ")\n",
    "button.on_click(on_button_clicked)\n",
    "output = widgets.Output()\n",
    "\n",
    "display(text, button, output)"
   ]
  },
  {
   "cell_type": "markdown",
   "metadata": {},
   "source": [
    "## What to do next ?\n",
    "\n",
    "Once you have set your token you can go under `notebooks` directory to see some notebook examples."
   ]
  }
 ],
 "metadata": {
  "kernelspec": {
   "display_name": "Python 3",
   "language": "python",
   "name": "python3"
  },
  "language_info": {
   "codemirror_mode": {
    "name": "ipython",
    "version": 3
   },
   "file_extension": ".py",
   "mimetype": "text/x-python",
   "name": "python",
   "nbconvert_exporter": "python",
   "pygments_lexer": "ipython3",
   "version": "3.7.2"
  }
 },
 "nbformat": 4,
 "nbformat_minor": 4
}
